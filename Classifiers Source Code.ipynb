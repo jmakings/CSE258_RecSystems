{
 "cells": [
  {
   "cell_type": "code",
   "execution_count": 8,
   "id": "5877d7b4",
   "metadata": {},
   "outputs": [],
   "source": [
    "import gzip\n",
    "import numpy as np\n",
    "from collections import defaultdict\n",
    "from sklearn import linear_model\n",
    "import csv\n",
    "import matplotlib.pyplot as plt\n",
    "import pandas as pd\n",
    "import scipy\n",
    "import json\n",
    "import statistics\n",
    "import random\n",
    "from sklearn.ensemble import RandomForestClassifier, BaggingClassifier, ExtraTreesClassifier, AdaBoostClassifier\n",
    "from sklearn.preprocessing import StandardScaler\n",
    "from sklearn import svm, datasets\n",
    "import sklearn.model_selection as model_selection\n",
    "from sklearn.metrics import accuracy_score\n",
    "from sklearn.metrics import f1_score\n",
    "from matplotlib.colors import ListedColormap\n",
    "from sklearn.tree import export_graphviz\n",
    "from sklearn.preprocessing import LabelEncoder\n",
    "from sklearn.model_selection import cross_val_score\n",
    "from sklearn.model_selection import RepeatedStratifiedKFold"
   ]
  },
  {
   "cell_type": "code",
   "execution_count": 1,
   "id": "7adc88cf",
   "metadata": {},
   "outputs": [],
   "source": [
    "# loading in dataset"
   ]
  },
  {
   "cell_type": "code",
   "execution_count": 3,
   "id": "6a0d141a",
   "metadata": {},
   "outputs": [],
   "source": [
    "data = []\n",
    "with open('endomondoHR_proper.json') as f:\n",
    "    for l in f:\n",
    "        data.append(eval(l))"
   ]
  },
  {
   "cell_type": "code",
   "execution_count": 5,
   "id": "9080bbc6",
   "metadata": {},
   "outputs": [],
   "source": [
    "endoData = data"
   ]
  },
  {
   "cell_type": "code",
   "execution_count": 6,
   "id": "1bb51f0e",
   "metadata": {},
   "outputs": [],
   "source": [
    "sports = [d['sport'] for d in endoData]"
   ]
  },
  {
   "cell_type": "code",
   "execution_count": 9,
   "id": "25fe2912",
   "metadata": {},
   "outputs": [],
   "source": [
    "sportsNum = defaultdict(int)\n",
    "for d in endoData:\n",
    "    sportsNum[d['sport']] += 1"
   ]
  },
  {
   "cell_type": "markdown",
   "id": "44720df6",
   "metadata": {},
   "source": [
    "# Part 1: Exploratory analysis of dataset"
   ]
  },
  {
   "cell_type": "markdown",
   "id": "77564398",
   "metadata": {},
   "source": [
    "### Exploring dataset to determine what can be used as a predictive feature"
   ]
  },
  {
   "cell_type": "markdown",
   "id": "5731af3c",
   "metadata": {},
   "source": [
    "#### To begin, data was filtered to only include activities with more than 100 entries in dataset"
   ]
  },
  {
   "cell_type": "code",
   "execution_count": 10,
   "id": "94aabb5c",
   "metadata": {},
   "outputs": [],
   "source": [
    "filterData = []\n",
    "for d in endoData:\n",
    "    sport = d['sport'] \n",
    "    if sportsNum[sport] < 100:\n",
    "        continue\n",
    "    else:\n",
    "        filterData.append(d)"
   ]
  },
  {
   "cell_type": "code",
   "execution_count": 11,
   "id": "e853f8f1",
   "metadata": {},
   "outputs": [],
   "source": [
    "filtersportsNum = defaultdict(int)\n",
    "for d in filterData:\n",
    "    filtersportsNum[d['sport']] += 1"
   ]
  },
  {
   "cell_type": "markdown",
   "id": "6f1ef1e8",
   "metadata": {},
   "source": [
    "### Data structures were built in the below fashion, compiling statistics for both activity mean and max values and linking workout IDs to mean and max values"
   ]
  },
  {
   "cell_type": "code",
   "execution_count": 12,
   "id": "de798fc1",
   "metadata": {},
   "outputs": [],
   "source": [
    "HR_sums = defaultdict(int)\n",
    "HR_max = defaultdict(int) \n",
    "idAvgHR = {} \n",
    "idMaxHR = {} \n",
    "for d in filterData:\n",
    "    avg = sum(d['heart_rate']) / len(d['heart_rate'])\n",
    "    maxHR = max(d['heart_rate'])\n",
    "    idAvgHR[d['id']] = avg\n",
    "    HR_sums[d['sport']] += avg\n",
    "    HR_max[d['sport']] += maxHR\n",
    "    idMaxHR[d['id']] = maxHR"
   ]
  },
  {
   "cell_type": "code",
   "execution_count": 13,
   "id": "1f922bca",
   "metadata": {
    "scrolled": false
   },
   "outputs": [
    {
     "data": {
      "text/plain": [
       "{'bike': 133.4317747062495,\n",
       " 'bike (transport)': 126.7027379141422,\n",
       " 'run': 147.10291328922992,\n",
       " 'mountain bike': 135.45045140831908,\n",
       " 'orienteering': 147.30912802768174,\n",
       " 'indoor cycling': 133.21582492753586,\n",
       " 'skate': 120.70117343173445,\n",
       " 'cross-country skiing': 137.60238783269963,\n",
       " 'core stability training': 129.3156473214286,\n",
       " 'walk': 102.55944918541508,\n",
       " 'hiking': 110.85838818565402,\n",
       " 'fitness walking': 116.52337671232883,\n",
       " 'roller skiing': 129.87064705882358}"
      ]
     },
     "execution_count": 13,
     "metadata": {},
     "output_type": "execute_result"
    }
   ],
   "source": [
    "HR_avg = {}\n",
    "HRmaxAvg = {}\n",
    "for d in HR_sums:\n",
    "    avg = HR_sums[d] / filtersportsNum[d]\n",
    "    HRmaxAvg[d] = HR_max[d] / filtersportsNum[d]\n",
    "    HR_avg[d] = avg\n",
    "HR_avg #Average Heart Rate for each activity"
   ]
  },
  {
   "cell_type": "code",
   "execution_count": 16,
   "id": "6edb1b48",
   "metadata": {},
   "outputs": [],
   "source": [
    "speed_max = defaultdict(int)\n",
    "speed_avg = defaultdict(int)\n",
    "idAvgSpeed = {}\n",
    "idMaxSpeed = {} \n",
    "samples = defaultdict(int)\n",
    "for d in filterData:\n",
    "    if 'speed' not in d:\n",
    "        continue\n",
    "    speed_max[d['sport']] += max(d['speed'])\n",
    "    speed_avg[d['sport']] += statistics.mean(d['speed'])\n",
    "    idAvgSpeed[d['id']] = statistics.mean(d['speed'])\n",
    "    idMaxSpeed[d['id']] = max(d['speed'])\n",
    "    samples[d['sport']] += 1"
   ]
  },
  {
   "cell_type": "code",
   "execution_count": 17,
   "id": "bb39a44b",
   "metadata": {
    "scrolled": true
   },
   "outputs": [
    {
     "data": {
      "text/plain": [
       "defaultdict(int,\n",
       "            {'bike': 47.94665899491041,\n",
       "             'bike (transport)': 40.67649933142317,\n",
       "             'run': 18.510499184876863,\n",
       "             'indoor cycling': 40.05016799999997,\n",
       "             'mountain bike': 44.98322411067192,\n",
       "             'orienteering': 16.18069090909091,\n",
       "             'core stability training': 39.2514761904762,\n",
       "             'walk': 14.667564705882347,\n",
       "             'cross-country skiing': 29.952868965517236,\n",
       "             'fitness walking': 20.344320000000003,\n",
       "             'roller skiing': 25.428126315789473,\n",
       "             'skate': 32.292300000000004,\n",
       "             'hiking': 17.540100000000002})"
      ]
     },
     "execution_count": 17,
     "metadata": {},
     "output_type": "execute_result"
    }
   ],
   "source": [
    "avgMaxSpeed = defaultdict(int)\n",
    "avgAvgSpeed = defaultdict(int)\n",
    "for d in samples:\n",
    "    speed = speed_max[d]/samples[d]\n",
    "    avgMaxSpeed[d] = speed\n",
    "    avgAvgSpeed[d] = speed_avg[d] / samples[d]\n",
    "avgMaxSpeed #Average Maximum Speed reached for each activity"
   ]
  },
  {
   "cell_type": "code",
   "execution_count": 25,
   "id": "7637bc94",
   "metadata": {
    "scrolled": true
   },
   "outputs": [
    {
     "data": {
      "text/plain": [
       "31662"
      ]
     },
     "execution_count": 25,
     "metadata": {},
     "output_type": "execute_result"
    }
   ],
   "source": [
    "len(idAvgSpeed)"
   ]
  },
  {
   "cell_type": "code",
   "execution_count": 18,
   "id": "2e50a678",
   "metadata": {},
   "outputs": [
    {
     "data": {
      "text/plain": [
       "29.832653592972193"
      ]
     },
     "execution_count": 18,
     "metadata": {},
     "output_type": "execute_result"
    }
   ],
   "source": [
    "globalMaxSpeed = statistics.mean(avgMaxSpeed.values())\n",
    "globalMaxSpeed "
   ]
  },
  {
   "cell_type": "code",
   "execution_count": 27,
   "id": "e1b7fae5",
   "metadata": {},
   "outputs": [
    {
     "data": {
      "text/plain": [
       "defaultdict(int,\n",
       "            {'bike': 27.090390808120418,\n",
       "             'bike (transport)': 23.408784377459437,\n",
       "             'run': 11.520197007388134,\n",
       "             'indoor cycling': 27.365575679999974,\n",
       "             'mountain bike': 20.326191958893297,\n",
       "             'orienteering': 10.734081381818182,\n",
       "             'core stability training': 15.533825352380951,\n",
       "             'walk': 6.376824070588237,\n",
       "             'cross-country skiing': 14.339669213793103,\n",
       "             'fitness walking': 7.9100088,\n",
       "             'roller skiing': 15.421327578947368,\n",
       "             'skate': 21.457228200000003,\n",
       "             'hiking': 6.800796})"
      ]
     },
     "execution_count": 27,
     "metadata": {},
     "output_type": "execute_result"
    }
   ],
   "source": [
    "avgAvgSpeed #Average speed for each activity"
   ]
  },
  {
   "cell_type": "code",
   "execution_count": 28,
   "id": "36a7ac01",
   "metadata": {
    "scrolled": false
   },
   "outputs": [
    {
     "data": {
      "text/plain": [
       "<matplotlib.legend.Legend at 0x7fb6f7a17c10>"
      ]
     },
     "execution_count": 28,
     "metadata": {},
     "output_type": "execute_result"
    },
    {
     "data": {
      "image/png": "[encoded data removed]",
      "text/plain": [
       "<Figure size 432x288 with 1 Axes>"
      ]
     },
     "metadata": {
      "needs_background": "light"
     },
     "output_type": "display_data"
    }
   ],
   "source": [
    "hlist = HR_avg.items()\n",
    "slist = HRmaxAvg.items()\n",
    "a,b = zip(*slist)\n",
    "x,y = zip(*hlist)\n",
    "plt.scatter(x,y, label = 'Avg Heart Rates')\n",
    "plt.scatter(a,b, label = 'Avg Max Heart Rate')\n",
    "plt.xticks(rotation=75)\n",
    "plt.xlabel(\"Activity Type\")\n",
    "plt.ylabel(\"Heart Rate (BPM)\")\n",
    "plt.title(\"User Average and Average Maximum Heart Rates of EndoMondo activities\")\n",
    "plt.legend()"
   ]
  },
  {
   "cell_type": "code",
   "execution_count": 29,
   "id": "5b22bc2b",
   "metadata": {
    "scrolled": false
   },
   "outputs": [
    {
     "data": {
      "text/plain": [
       "<matplotlib.legend.Legend at 0x7fb6fb42df70>"
      ]
     },
     "execution_count": 29,
     "metadata": {},
     "output_type": "execute_result"
    },
    {
     "data": {
      "image/png": "[encoded data removed]",
      "text/plain": [
       "<Figure size 432x288 with 1 Axes>"
      ]
     },
     "metadata": {
      "needs_background": "light"
     },
     "output_type": "display_data"
    }
   ],
   "source": [
    "hlist = avgAvgSpeed.items()\n",
    "slist = avgMaxSpeed.items()\n",
    "a,b = zip(*slist)\n",
    "x,y = zip(*hlist)\n",
    "plt.scatter(x,y, label = 'Average Speed')\n",
    "plt.scatter(a,b, label = 'Avg Max Speed')\n",
    "plt.xticks(rotation=75)\n",
    "plt.xlabel(\"Activity Type\")\n",
    "plt.ylabel(\"Speed (MPH)\")\n",
    "plt.title(\"Average and Maximum Speeds of EndoMondo activities\")\n",
    "plt.legend()"
   ]
  },
  {
   "cell_type": "code",
   "execution_count": 19,
   "id": "7a34bbdc",
   "metadata": {},
   "outputs": [],
   "source": [
    "#sumAlt for computing change in altitude per sport\n",
    "sumAlt = defaultdict(int) \n",
    "#altUser for storing altitude change for each workout\n",
    "altUser = {} \n",
    "for d in filterData:\n",
    "    change = max(d['altitude']) - min(d['altitude'])\n",
    "    altUser[d['id']] = change\n",
    "    sumAlt[d['sport']] += change"
   ]
  },
  {
   "cell_type": "code",
   "execution_count": 20,
   "id": "03484311",
   "metadata": {},
   "outputs": [
    {
     "data": {
      "text/plain": [
       "{'bike': 94.75975529917216,\n",
       " 'bike (transport)': 64.7576687433287,\n",
       " 'run': 64.20693326504222,\n",
       " 'mountain bike': 136.9838830116585,\n",
       " 'orienteering': 51.351807381776254,\n",
       " 'indoor cycling': 41.575650182028944,\n",
       " 'skate': 40.69343687084869,\n",
       " 'cross-country skiing': 134.513334311787,\n",
       " 'core stability training': 72.0895888214286,\n",
       " 'walk': 55.00664953840175,\n",
       " 'hiking': 286.4424215189872,\n",
       " 'fitness walking': 75.37105866438351,\n",
       " 'roller skiing': 117.8817033613445}"
      ]
     },
     "execution_count": 20,
     "metadata": {},
     "output_type": "execute_result"
    }
   ],
   "source": [
    "meanAlt = {} \n",
    "for m in sumAlt:\n",
    "    meanAlt[m] = sumAlt[m] / filtersportsNum[m]\n",
    "meanAlt #Mean Altitude change for each activity"
   ]
  },
  {
   "cell_type": "code",
   "execution_count": 32,
   "id": "c0b0dabb",
   "metadata": {
    "scrolled": false
   },
   "outputs": [
    {
     "data": {
      "text/plain": [
       "Text(0.5, 1.0, 'Average Altitude Change of EndoMondo activities')"
      ]
     },
     "execution_count": 32,
     "metadata": {},
     "output_type": "execute_result"
    },
    {
     "data": {
      "image/png": "[encoded data removed]",
      "text/plain": [
       "<Figure size 432x288 with 1 Axes>"
      ]
     },
     "metadata": {
      "needs_background": "light"
     },
     "output_type": "display_data"
    }
   ],
   "source": [
    "hlist = meanAlt.items()\n",
    "x,y = zip(*hlist)\n",
    "plt.bar(x,y, label = 'Average Altitude Change')\n",
    "plt.xticks(rotation=75)\n",
    "plt.xlabel(\"Activity Type\")\n",
    "plt.ylabel(\"Altitude Change (meters)\")\n",
    "plt.title(\"Average Altitude Change of EndoMondo activities\")"
   ]
  },
  {
   "cell_type": "code",
   "execution_count": 21,
   "id": "d3b05e99",
   "metadata": {},
   "outputs": [
    {
     "data": {
      "text/plain": [
       "defaultdict(int, {'male': 156145, 'female': 9819, 'unknown': 1177})"
      ]
     },
     "execution_count": 21,
     "metadata": {},
     "output_type": "execute_result"
    }
   ],
   "source": [
    "gender = defaultdict(int) \n",
    "for d in filterData:\n",
    "    gender[d['gender']] += 1\n",
    "gender "
   ]
  },
  {
   "cell_type": "code",
   "execution_count": 34,
   "id": "38ef5647",
   "metadata": {},
   "outputs": [
    {
     "data": {
      "text/plain": [
       "Text(0.5, 1.0, 'Gender breakdown of EndoMondo Users')"
      ]
     },
     "execution_count": 34,
     "metadata": {},
     "output_type": "execute_result"
    },
    {
     "data": {
      "image/png": "[encoded data removed]",
      "text/plain": [
       "<Figure size 432x288 with 1 Axes>"
      ]
     },
     "metadata": {},
     "output_type": "display_data"
    }
   ],
   "source": [
    "labels = gender.items()\n",
    "sizes = [(gender['male']/len(gender)), (gender['female']/len(gender)), (gender['unknown']/len(gender)) ]\n",
    "fig1, ax1 = plt.subplots()\n",
    "ax1.pie(sizes, labels=labels, shadow=True, startangle=45)\n",
    "ax1.axis('equal')\n",
    "plt.title(\"Gender breakdown of EndoMondo Users\")"
   ]
  },
  {
   "cell_type": "code",
   "execution_count": 35,
   "id": "aa531ca1",
   "metadata": {},
   "outputs": [],
   "source": [
    "## Baselines: Predict bike every time"
   ]
  },
  {
   "cell_type": "code",
   "execution_count": 36,
   "id": "cf45f78c",
   "metadata": {},
   "outputs": [],
   "source": [
    "women_stats = defaultdict(int)\n",
    "men_stats = defaultdict(int)\n",
    "for d in filterData:\n",
    "    if d['gender'] == 'female':\n",
    "        women_stats[d['sport']] += 1\n",
    "    elif d['gender'] == 'male':\n",
    "        men_stats[d['sport']] += 1"
   ]
  },
  {
   "cell_type": "code",
   "execution_count": 37,
   "id": "ca4b7397",
   "metadata": {
    "scrolled": true
   },
   "outputs": [
    {
     "data": {
      "text/plain": [
       "defaultdict(int,\n",
       "            {'bike (transport)': 235,\n",
       "             'bike': 2921,\n",
       "             'run': 5575,\n",
       "             'orienteering': 44,\n",
       "             'mountain bike': 277,\n",
       "             'indoor cycling': 81,\n",
       "             'walk': 263,\n",
       "             'skate': 19,\n",
       "             'core stability training': 43,\n",
       "             'cross-country skiing': 167,\n",
       "             'roller skiing': 5,\n",
       "             'hiking': 40,\n",
       "             'fitness walking': 149})"
      ]
     },
     "execution_count": 37,
     "metadata": {},
     "output_type": "execute_result"
    }
   ],
   "source": [
    "women_stats"
   ]
  },
  {
   "cell_type": "code",
   "execution_count": 38,
   "id": "baec47a6",
   "metadata": {
    "scrolled": true
   },
   "outputs": [
    {
     "data": {
      "text/plain": [
       "defaultdict(int,\n",
       "            {'bike (transport)': 235,\n",
       "             'bike': 2921,\n",
       "             'run': 5575,\n",
       "             'other': 548,\n",
       "             'mountain bike': 277,\n",
       "             'walk': 263})"
      ]
     },
     "execution_count": 38,
     "metadata": {},
     "output_type": "execute_result"
    }
   ],
   "source": [
    "women_con = defaultdict(int) \n",
    "for i in women_stats:\n",
    "    if women_stats[i] < 200:\n",
    "        women_con['other'] += women_stats[i]\n",
    "    else:\n",
    "        women_con[i] = women_stats[i]\n",
    "women_con"
   ]
  },
  {
   "cell_type": "code",
   "execution_count": 39,
   "id": "db7652d2",
   "metadata": {},
   "outputs": [
    {
     "data": {
      "text/plain": [
       "9819"
      ]
     },
     "execution_count": 39,
     "metadata": {},
     "output_type": "execute_result"
    }
   ],
   "source": [
    "wsize = sum(women_con.values())\n",
    "wsize"
   ]
  },
  {
   "cell_type": "code",
   "execution_count": 40,
   "id": "74803d95",
   "metadata": {},
   "outputs": [
    {
     "data": {
      "text/plain": [
       "Text(0.5, 1.0, 'Activity breakdown of Female EndoMondo Users')"
      ]
     },
     "execution_count": 40,
     "metadata": {},
     "output_type": "execute_result"
    },
    {
     "data": {
      "image/png": "[encoded data removed]",
      "text/plain": [
       "<Figure size 432x288 with 1 Axes>"
      ]
     },
     "metadata": {},
     "output_type": "display_data"
    }
   ],
   "source": [
    "labels = women_con.items()\n",
    "sizes = [ women_con['bike (transport)'], women_con['bike'] , women_con['run'], women_con['other'] , women_con['mountain bike'] , women_con['walk'] ]\n",
    "fig1, ax1 = plt.subplots()\n",
    "ax1.pie(sizes, labels=labels, shadow=False, startangle=0)\n",
    "ax1.axis('equal')\n",
    "plt.title(\"Activity breakdown of Female EndoMondo Users\") "
   ]
  },
  {
   "cell_type": "code",
   "execution_count": 41,
   "id": "63831975",
   "metadata": {
    "scrolled": true
   },
   "outputs": [
    {
     "data": {
      "text/plain": [
       "defaultdict(int,\n",
       "            {'bike': 68386,\n",
       "             'bike (transport)': 7521,\n",
       "             'run': 64548,\n",
       "             'mountain bike': 10362,\n",
       "             'indoor cycling': 1633,\n",
       "             'skate': 252,\n",
       "             'cross-country skiing': 622,\n",
       "             'core stability training': 400,\n",
       "             'walk': 1026,\n",
       "             'hiking': 197,\n",
       "             'orienteering': 823,\n",
       "             'fitness walking': 142,\n",
       "             'roller skiing': 233})"
      ]
     },
     "execution_count": 41,
     "metadata": {},
     "output_type": "execute_result"
    }
   ],
   "source": [
    "men_stats"
   ]
  },
  {
   "cell_type": "code",
   "execution_count": 42,
   "id": "3906f3ac",
   "metadata": {},
   "outputs": [
    {
     "data": {
      "text/plain": [
       "defaultdict(int,\n",
       "            {'bike': 68386,\n",
       "             'bike (transport)': 7521,\n",
       "             'run': 64548,\n",
       "             'mountain bike': 10362,\n",
       "             'other': 5328})"
      ]
     },
     "execution_count": 42,
     "metadata": {},
     "output_type": "execute_result"
    }
   ],
   "source": [
    "men_con = defaultdict(int) \n",
    "for i in men_stats:\n",
    "    if men_stats[i] < 2000:\n",
    "        men_con['other'] += men_stats[i]\n",
    "    else:\n",
    "        men_con[i] = men_stats[i]\n",
    "men_con"
   ]
  },
  {
   "cell_type": "code",
   "execution_count": 43,
   "id": "ef23c9b7",
   "metadata": {},
   "outputs": [
    {
     "data": {
      "text/plain": [
       "Text(0.5, 1.0, 'Activity breakdown of Male EndoMondo Users')"
      ]
     },
     "execution_count": 43,
     "metadata": {},
     "output_type": "execute_result"
    },
    {
     "data": {
      "image/png": "[encoded data removed]",
      "text/plain": [
       "<Figure size 432x288 with 1 Axes>"
      ]
     },
     "metadata": {},
     "output_type": "display_data"
    }
   ],
   "source": [
    "labels = men_con.items()\n",
    "sizes = [men_con['bike'] , men_con['bike (transport)'], men_con['run'], men_con['mountain bike'] , men_con['other'] ]\n",
    "fig1, ax1 = plt.subplots()\n",
    "ax1.pie(sizes, labels=labels, shadow=False, startangle=0)\n",
    "ax1.axis('equal')\n",
    "plt.title(\"Activity breakdown of Male EndoMondo Users\") "
   ]
  },
  {
   "cell_type": "code",
   "execution_count": 45,
   "id": "1883733d",
   "metadata": {},
   "outputs": [
    {
     "data": {
      "text/plain": [
       "167141"
      ]
     },
     "execution_count": 45,
     "metadata": {},
     "output_type": "execute_result"
    }
   ],
   "source": [
    "size = len(filterData)\n",
    "size # number of workouts in filtered dataset"
   ]
  },
  {
   "cell_type": "code",
   "execution_count": 46,
   "id": "11a2889a",
   "metadata": {},
   "outputs": [
    {
     "data": {
      "text/plain": [
       "defaultdict(int,\n",
       "            {'bike': 71915,\n",
       "             'bike (transport)': 7757,\n",
       "             'run': 70591,\n",
       "             'mountain bike': 10722,\n",
       "             'other': 6156})"
      ]
     },
     "execution_count": 46,
     "metadata": {},
     "output_type": "execute_result"
    }
   ],
   "source": [
    "condensed = defaultdict(int)\n",
    "for i in filtersportsNum:\n",
    "    if filtersportsNum[i] < 2000:\n",
    "        condensed['other'] += filtersportsNum[i]\n",
    "    else:\n",
    "        condensed[i] = filtersportsNum[i]\n",
    "condensed"
   ]
  },
  {
   "cell_type": "code",
   "execution_count": 47,
   "id": "6daa931e",
   "metadata": {},
   "outputs": [
    {
     "data": {
      "text/plain": [
       "Text(0.5, 1.0, 'Activity breakdown of All EndoMondo Users')"
      ]
     },
     "execution_count": 47,
     "metadata": {},
     "output_type": "execute_result"
    },
    {
     "data": {
      "image/png": "[encoded data removed]",
      "text/plain": [
       "<Figure size 432x288 with 1 Axes>"
      ]
     },
     "metadata": {},
     "output_type": "display_data"
    }
   ],
   "source": [
    "labels = condensed.items()\n",
    "sizes = [(filtersportsNum['bike']/size), (filtersportsNum['bike (transport)']/size), (filtersportsNum['run']/size), (filtersportsNum['mountain bike']/size), (condensed['other']/size)]\n",
    "fig1, ax1 = plt.subplots()\n",
    "ax1.pie(sizes, labels=labels, shadow=True, startangle=310)\n",
    "ax1.axis('equal')\n",
    "plt.title(\"Activity breakdown of All EndoMondo Users\") "
   ]
  },
  {
   "cell_type": "code",
   "execution_count": 22,
   "id": "5e551ca0",
   "metadata": {},
   "outputs": [],
   "source": [
    "long_sums = defaultdict(int)\n",
    "lat_sums = defaultdict(int)\n",
    "long_id = {} \n",
    "lat_id = {} \n",
    "for d in filterData:\n",
    "    long = max(d['longitude']) - min(d['longitude'])\n",
    "    lat = max(d['latitude']) - min(d['latitude'])\n",
    "    long_id[d['id']] = long\n",
    "    lat_id[d['id']] = lat\n",
    "    long_sums[d['sport']] += long\n",
    "    lat_sums[d['sport']] += lat"
   ]
  },
  {
   "cell_type": "code",
   "execution_count": 23,
   "id": "83d54862",
   "metadata": {},
   "outputs": [],
   "source": [
    "avgLong = defaultdict(int)\n",
    "avgLat = defaultdict(int)\n",
    "for i in filtersportsNum:\n",
    "    avgLong[i] = long_sums[i] / filtersportsNum[i]\n",
    "    avgLat[i] = lat_sums[i] / filtersportsNum[i]"
   ]
  },
  {
   "cell_type": "code",
   "execution_count": 50,
   "id": "4323ef14",
   "metadata": {},
   "outputs": [
    {
     "data": {
      "text/plain": [
       "defaultdict(int,\n",
       "            {'bike': 0.14308488895797997,\n",
       "             'bike (transport)': 0.11808336941715437,\n",
       "             'run': 0.03850127851431308,\n",
       "             'mountain bike': 0.10015792674494045,\n",
       "             'orienteering': 0.02888568856831222,\n",
       "             'indoor cycling': 0.0070514591638117866,\n",
       "             'skate': 0.04607312752707733,\n",
       "             'cross-country skiing': 0.06446048522329155,\n",
       "             'core stability training': 0.04343596294397522,\n",
       "             'walk': 0.023578805805347155,\n",
       "             'hiking': 0.039925016227022665,\n",
       "             'fitness walking': 0.041056265437977885,\n",
       "             'roller skiing': 0.07086336978218712})"
      ]
     },
     "execution_count": 50,
     "metadata": {},
     "output_type": "execute_result"
    }
   ],
   "source": [
    "avgLong #average longitude change for each activity"
   ]
  },
  {
   "cell_type": "code",
   "execution_count": 51,
   "id": "0febca9a",
   "metadata": {},
   "outputs": [
    {
     "data": {
      "text/plain": [
       "defaultdict(int,\n",
       "            {'bike': 0.09524951296496922,\n",
       "             'bike (transport)': 0.09048154494510502,\n",
       "             'run': 0.023826905046391234,\n",
       "             'mountain bike': 0.06303984829745889,\n",
       "             'orienteering': 0.015740898421929318,\n",
       "             'indoor cycling': 0.006009333302391453,\n",
       "             'skate': 0.02630670390978264,\n",
       "             'cross-country skiing': 0.03134833109639658,\n",
       "             'core stability training': 0.021476740376835824,\n",
       "             'walk': 0.014098816679649113,\n",
       "             'hiking': 0.020744880480439907,\n",
       "             'fitness walking': 0.018813085023127365,\n",
       "             'roller skiing': 0.03903332097016901})"
      ]
     },
     "execution_count": 51,
     "metadata": {},
     "output_type": "execute_result"
    }
   ],
   "source": [
    "avgLat #average latitude change for each activity"
   ]
  },
  {
   "cell_type": "code",
   "execution_count": 53,
   "id": "d4ba3e44",
   "metadata": {},
   "outputs": [
    {
     "data": {
      "text/plain": [
       "Text(0.5, 1.0, 'Max Latitude and Longitude Change for each Activity type')"
      ]
     },
     "execution_count": 53,
     "metadata": {},
     "output_type": "execute_result"
    },
    {
     "data": {
      "image/png": "[encoded data removed]",
      "text/plain": [
       "<Figure size 432x288 with 1 Axes>"
      ]
     },
     "metadata": {
      "needs_background": "light"
     },
     "output_type": "display_data"
    }
   ],
   "source": [
    "latlist = list(avgLat.values())\n",
    "longlist = list(avgLong.values())\n",
    "act = avgLat.keys()\n",
    "\n",
    "plt.scatter(latlist, longlist) \n",
    "for i, txt in enumerate(act):\n",
    "    if i == 4 or i == 11 or i == 8 or i == 2:\n",
    "        continue\n",
    "    elif i == 10:\n",
    "        plt.annotate(\"run, fitness walking, hiking, core training\", (latlist[i], longlist[i]))\n",
    "    elif i == 9:\n",
    "        plt.annotate(\"walk, orienteering\", (latlist[i], longlist[i]))\n",
    "    else:\n",
    "        plt.annotate(txt, (latlist[i], longlist[i]))\n",
    "\n",
    "plt.scatter(latlist,longlist, label = 'Average Altitude Change')\n",
    "plt.xlabel(\"Latitude\")\n",
    "plt.ylabel(\"Longitude\")\n",
    "plt.title(\"Max Latitude and Longitude Change for each Activity type\")"
   ]
  },
  {
   "cell_type": "markdown",
   "id": "1242da42",
   "metadata": {},
   "source": [
    "# Part 2: Building and trying out candidate models"
   ]
  },
  {
   "cell_type": "markdown",
   "id": "7f33b6a2",
   "metadata": {},
   "source": [
    "### Data was split into training and test sets, and various feature/model combinations were tested"
   ]
  },
  {
   "cell_type": "code",
   "execution_count": 54,
   "id": "151518a4",
   "metadata": {},
   "outputs": [],
   "source": [
    "#Error rate function for evaluating model accuracy\n",
    "def BER(predictions, y):\n",
    "    if len(predictions) != len(y):\n",
    "        print(\"Error: Predictions and values lengths are not equal\")\n",
    "        return 1; \n",
    "    total = len(y)\n",
    "    values = 0\n",
    "    for p,l in zip(predictions, y):\n",
    "        if p == l:\n",
    "            values += 1\n",
    "    rate = (values/total) * 100\n",
    "    return str(rate) + \"% correct\""
   ]
  },
  {
   "cell_type": "code",
   "execution_count": 55,
   "id": "27af6f10",
   "metadata": {},
   "outputs": [],
   "source": [
    "shuffleData1 = filterData"
   ]
  },
  {
   "cell_type": "code",
   "execution_count": 56,
   "id": "870462b2",
   "metadata": {},
   "outputs": [],
   "source": [
    "random.seed(2)\n",
    "random.shuffle(shuffleData1) #shuffling data"
   ]
  },
  {
   "cell_type": "code",
   "execution_count": 57,
   "id": "1996e561",
   "metadata": {},
   "outputs": [],
   "source": [
    "n = int(len(shuffleData1) * 3 / 4)"
   ]
  },
  {
   "cell_type": "code",
   "execution_count": 58,
   "id": "dbdf6718",
   "metadata": {},
   "outputs": [
    {
     "data": {
      "text/plain": [
       "125355"
      ]
     },
     "execution_count": 58,
     "metadata": {},
     "output_type": "execute_result"
    }
   ],
   "source": [
    "train1 = shuffleData1[:n]\n",
    "len(train1) #training split"
   ]
  },
  {
   "cell_type": "code",
   "execution_count": 59,
   "id": "0afd27b2",
   "metadata": {},
   "outputs": [
    {
     "data": {
      "text/plain": [
       "defaultdict(int,\n",
       "            {'run': 52924,\n",
       "             'bike': 53952,\n",
       "             'mountain bike': 7999,\n",
       "             'indoor cycling': 1285,\n",
       "             'bike (transport)': 5864,\n",
       "             'walk': 990,\n",
       "             'hiking': 176,\n",
       "             'core stability training': 325,\n",
       "             'roller skiing': 181,\n",
       "             'orienteering': 657,\n",
       "             'cross-country skiing': 597,\n",
       "             'fitness walking': 207,\n",
       "             'skate': 198})"
      ]
     },
     "execution_count": 59,
     "metadata": {},
     "output_type": "execute_result"
    }
   ],
   "source": [
    "trainDict = defaultdict(int)\n",
    "for d in train1:\n",
    "    trainDict[d['sport']] += 1\n",
    "trainDict"
   ]
  },
  {
   "cell_type": "code",
   "execution_count": 60,
   "id": "3d8459d4",
   "metadata": {},
   "outputs": [
    {
     "data": {
      "text/plain": [
       "41786"
      ]
     },
     "execution_count": 60,
     "metadata": {},
     "output_type": "execute_result"
    }
   ],
   "source": [
    "test1 = shuffleData1[n:]\n",
    "len(test1) #testing split"
   ]
  },
  {
   "cell_type": "code",
   "execution_count": null,
   "id": "c880ca64",
   "metadata": {},
   "outputs": [],
   "source": [
    "testDict = defaultdict(int)\n",
    "for d in test1:\n",
    "    testDict[d['sport']] += 1\n",
    "testDict"
   ]
  },
  {
   "cell_type": "code",
   "execution_count": 58,
   "id": "3d37d6d7",
   "metadata": {},
   "outputs": [],
   "source": [
    "test1actual = [d['sport'] for d in test1]"
   ]
  },
  {
   "cell_type": "code",
   "execution_count": 59,
   "id": "ba41b9d2",
   "metadata": {},
   "outputs": [],
   "source": [
    "guessbike = ['bike' for d in test1]"
   ]
  },
  {
   "cell_type": "markdown",
   "id": "08cde17a",
   "metadata": {},
   "source": [
    "## The \"Predicting bike every time\" model"
   ]
  },
  {
   "cell_type": "code",
   "execution_count": 60,
   "id": "77989738",
   "metadata": {
    "scrolled": true
   },
   "outputs": [
    {
     "data": {
      "text/plain": [
       "'42.988082132771744% correct'"
      ]
     },
     "execution_count": 60,
     "metadata": {},
     "output_type": "execute_result"
    }
   ],
   "source": [
    "BER(guessbike, test1actual)"
   ]
  },
  {
   "cell_type": "markdown",
   "id": "7032bcbb",
   "metadata": {},
   "source": [
    "## Using max speed as a feature in logistic regression"
   ]
  },
  {
   "cell_type": "code",
   "execution_count": 61,
   "id": "5341a0cc",
   "metadata": {},
   "outputs": [],
   "source": [
    "mod1 = linear_model.LogisticRegression(multi_class='multinomial')"
   ]
  },
  {
   "cell_type": "code",
   "execution_count": 62,
   "id": "5cf117a0",
   "metadata": {},
   "outputs": [],
   "source": [
    "mod1_1 = linear_model.LogisticRegression(multi_class='multinomial')"
   ]
  },
  {
   "cell_type": "code",
   "execution_count": 63,
   "id": "ec2935e2",
   "metadata": {},
   "outputs": [],
   "source": [
    "def basicfeat(data):\n",
    "    feat = [1] \n",
    "    return feat"
   ]
  },
  {
   "cell_type": "code",
   "execution_count": 64,
   "id": "640dd986",
   "metadata": {},
   "outputs": [],
   "source": [
    "def maxSpeedfeat(data):\n",
    "    feat = [1] \n",
    "    if data['id'] not in idMaxSpeed.keys():\n",
    "        feat.append(globalMaxSpeed)\n",
    "    else:\n",
    "        feat.append(idMaxSpeed[data['id']])\n",
    "    return feat"
   ]
  },
  {
   "cell_type": "code",
   "execution_count": 65,
   "id": "5582c533",
   "metadata": {},
   "outputs": [
    {
     "data": {
      "text/plain": [
       "31662"
      ]
     },
     "execution_count": 65,
     "metadata": {},
     "output_type": "execute_result"
    }
   ],
   "source": [
    "len(idMaxSpeed)"
   ]
  },
  {
   "cell_type": "code",
   "execution_count": 66,
   "id": "f3c36349",
   "metadata": {},
   "outputs": [],
   "source": [
    "x_train1 = [maxSpeedfeat(d) for d in train1]"
   ]
  },
  {
   "cell_type": "code",
   "execution_count": 67,
   "id": "833b166e",
   "metadata": {},
   "outputs": [],
   "source": [
    "y_train1 = [d['sport'] for d in train1]"
   ]
  },
  {
   "cell_type": "code",
   "execution_count": 68,
   "id": "04e148a8",
   "metadata": {},
   "outputs": [
    {
     "name": "stderr",
     "output_type": "stream",
     "text": [
      "/Library/Frameworks/Python.framework/Versions/3.9/lib/python3.9/site-packages/sklearn/linear_model/_logistic.py:814: ConvergenceWarning: lbfgs failed to converge (status=1):\n",
      "STOP: TOTAL NO. of ITERATIONS REACHED LIMIT.\n",
      "\n",
      "Increase the number of iterations (max_iter) or scale the data as shown in:\n",
      "    https://scikit-learn.org/stable/modules/preprocessing.html\n",
      "Please also refer to the documentation for alternative solver options:\n",
      "    https://scikit-learn.org/stable/modules/linear_model.html#logistic-regression\n",
      "  n_iter_i = _check_optimize_result(\n"
     ]
    },
    {
     "data": {
      "text/plain": [
       "LogisticRegression(multi_class='multinomial')"
      ]
     },
     "execution_count": 68,
     "metadata": {},
     "output_type": "execute_result"
    }
   ],
   "source": [
    "mod1.fit(x_train1, y_train1)"
   ]
  },
  {
   "cell_type": "code",
   "execution_count": 69,
   "id": "adc30a22",
   "metadata": {
    "scrolled": true
   },
   "outputs": [],
   "source": [
    "x_speedtest = [maxSpeedfeat(d) for d in test1] "
   ]
  },
  {
   "cell_type": "code",
   "execution_count": 70,
   "id": "65ec5bf6",
   "metadata": {},
   "outputs": [],
   "source": [
    "speedPreds1 = mod1.predict(x_speedtest)"
   ]
  },
  {
   "cell_type": "code",
   "execution_count": 71,
   "id": "dc49ccc6",
   "metadata": {},
   "outputs": [
    {
     "data": {
      "text/plain": [
       "'51.48375053845786% correct'"
      ]
     },
     "execution_count": 71,
     "metadata": {},
     "output_type": "execute_result"
    }
   ],
   "source": [
    "BER(speedPreds1, test1actual)"
   ]
  },
  {
   "cell_type": "code",
   "execution_count": 72,
   "id": "e7ff85c0",
   "metadata": {},
   "outputs": [],
   "source": [
    "# function to print a summary of what the model predicted\n",
    "def predictionBreakdown(predictions):\n",
    "    predictionDict = defaultdict(int)\n",
    "    for d in predictions:\n",
    "        predictionDict[d] += 1 \n",
    "    return predictionDict"
   ]
  },
  {
   "cell_type": "code",
   "execution_count": 73,
   "id": "cb7bc992",
   "metadata": {
    "scrolled": true
   },
   "outputs": [
    {
     "data": {
      "text/plain": [
       "defaultdict(int, {'run': 36999, 'bike': 4787})"
      ]
     },
     "execution_count": 73,
     "metadata": {},
     "output_type": "execute_result"
    }
   ],
   "source": [
    "predictionBreakdown(speedPreds1)"
   ]
  },
  {
   "cell_type": "code",
   "execution_count": 74,
   "id": "883f6796",
   "metadata": {},
   "outputs": [],
   "source": [
    "##this predictor is slightly better than the \"guess only bike\" baseline,\n",
    "##however due to the sparcity of speed data barely breaks 50% accuracy"
   ]
  },
  {
   "cell_type": "markdown",
   "id": "96b7c847",
   "metadata": {},
   "source": [
    "## Using average Heart Rate as a feature in a logistic regressor"
   ]
  },
  {
   "cell_type": "code",
   "execution_count": 75,
   "id": "6b315570",
   "metadata": {},
   "outputs": [],
   "source": [
    "def avgHRfeat(data):\n",
    "    feat = [1] \n",
    "    feat.append(idAvgHR[data['id']])\n",
    "    return feat"
   ]
  },
  {
   "cell_type": "code",
   "execution_count": 76,
   "id": "861777c4",
   "metadata": {},
   "outputs": [],
   "source": [
    "mod2 = linear_model.LogisticRegression(multi_class='multinomial')"
   ]
  },
  {
   "cell_type": "code",
   "execution_count": 77,
   "id": "cb69ca0a",
   "metadata": {},
   "outputs": [
    {
     "name": "stderr",
     "output_type": "stream",
     "text": [
      "/Library/Frameworks/Python.framework/Versions/3.9/lib/python3.9/site-packages/sklearn/linear_model/_logistic.py:814: ConvergenceWarning: lbfgs failed to converge (status=1):\n",
      "STOP: TOTAL NO. of ITERATIONS REACHED LIMIT.\n",
      "\n",
      "Increase the number of iterations (max_iter) or scale the data as shown in:\n",
      "    https://scikit-learn.org/stable/modules/preprocessing.html\n",
      "Please also refer to the documentation for alternative solver options:\n",
      "    https://scikit-learn.org/stable/modules/linear_model.html#logistic-regression\n",
      "  n_iter_i = _check_optimize_result(\n"
     ]
    },
    {
     "data": {
      "text/plain": [
       "LogisticRegression(multi_class='multinomial')"
      ]
     },
     "execution_count": 77,
     "metadata": {},
     "output_type": "execute_result"
    }
   ],
   "source": [
    "x_train2 = [avgHRfeat(d) for d in train1]\n",
    "y_train2 = [d['sport'] for d in train1]\n",
    "mod2.fit(x_train2,y_train2)"
   ]
  },
  {
   "cell_type": "code",
   "execution_count": 78,
   "id": "b2af497a",
   "metadata": {
    "scrolled": true
   },
   "outputs": [],
   "source": [
    "x_avgHRtest = [avgHRfeat(d) for d in test1]\n",
    "avgHRpreds1 = mod2.predict(x_avgHRtest)"
   ]
  },
  {
   "cell_type": "code",
   "execution_count": 79,
   "id": "9fb15cde",
   "metadata": {
    "scrolled": true
   },
   "outputs": [
    {
     "data": {
      "text/plain": [
       "'58.0146460537022% correct'"
      ]
     },
     "execution_count": 79,
     "metadata": {},
     "output_type": "execute_result"
    }
   ],
   "source": [
    "BER(avgHRpreds1, test1actual)"
   ]
  },
  {
   "cell_type": "code",
   "execution_count": 80,
   "id": "4c609807",
   "metadata": {},
   "outputs": [],
   "source": [
    "## improvement to 58% accuracy"
   ]
  },
  {
   "cell_type": "code",
   "execution_count": 81,
   "id": "da38df3a",
   "metadata": {},
   "outputs": [
    {
     "data": {
      "text/plain": [
       "defaultdict(int, {'bike': 21219, 'run': 20566, 'hiking': 1})"
      ]
     },
     "execution_count": 81,
     "metadata": {},
     "output_type": "execute_result"
    }
   ],
   "source": [
    "predictionBreakdown(avgHRpreds1) #test predictions"
   ]
  },
  {
   "cell_type": "code",
   "execution_count": 82,
   "id": "33dc2f8b",
   "metadata": {
    "scrolled": false
   },
   "outputs": [
    {
     "data": {
      "text/plain": [
       "defaultdict(int,\n",
       "            {'bike': 17963,\n",
       "             'run': 17667,\n",
       "             'bike (transport)': 1893,\n",
       "             'mountain bike': 2723,\n",
       "             'fitness walking': 85,\n",
       "             'hiking': 61,\n",
       "             'cross-country skiing': 192,\n",
       "             'orienteering': 210,\n",
       "             'walk': 299,\n",
       "             'core stability training': 123,\n",
       "             'indoor cycling': 440,\n",
       "             'skate': 73,\n",
       "             'roller skiing': 57})"
      ]
     },
     "execution_count": 82,
     "metadata": {},
     "output_type": "execute_result"
    }
   ],
   "source": [
    "predictionBreakdown(test1actual) #real test data"
   ]
  },
  {
   "cell_type": "markdown",
   "id": "304086d4",
   "metadata": {},
   "source": [
    "## Latitude and longitude logistic regression model"
   ]
  },
  {
   "cell_type": "code",
   "execution_count": 84,
   "id": "1db572bc",
   "metadata": {},
   "outputs": [],
   "source": [
    "def latlongfeat(data):\n",
    "    feat = [1]\n",
    "    feat.append(long_id[data['id']])\n",
    "    feat.append(lat_id[data['id']])\n",
    "    return feat"
   ]
  },
  {
   "cell_type": "code",
   "execution_count": 85,
   "id": "a069491b",
   "metadata": {},
   "outputs": [],
   "source": [
    "x_train3 = [latlongfeat(d) for d in train1]\n",
    "y_train3 = [d['sport'] for d in train1]\n"
   ]
  },
  {
   "cell_type": "code",
   "execution_count": 86,
   "id": "f0acacc3",
   "metadata": {},
   "outputs": [
    {
     "name": "stderr",
     "output_type": "stream",
     "text": [
      "/Library/Frameworks/Python.framework/Versions/3.9/lib/python3.9/site-packages/sklearn/linear_model/_logistic.py:814: ConvergenceWarning: lbfgs failed to converge (status=1):\n",
      "STOP: TOTAL NO. of ITERATIONS REACHED LIMIT.\n",
      "\n",
      "Increase the number of iterations (max_iter) or scale the data as shown in:\n",
      "    https://scikit-learn.org/stable/modules/preprocessing.html\n",
      "Please also refer to the documentation for alternative solver options:\n",
      "    https://scikit-learn.org/stable/modules/linear_model.html#logistic-regression\n",
      "  n_iter_i = _check_optimize_result(\n"
     ]
    },
    {
     "data": {
      "text/plain": [
       "LogisticRegression(max_iter=400, multi_class='multinomial')"
      ]
     },
     "execution_count": 86,
     "metadata": {},
     "output_type": "execute_result"
    }
   ],
   "source": [
    "mod3 = linear_model.LogisticRegression(multi_class='multinomial', max_iter=400)\n",
    "mod3.fit(x_train3,y_train3)"
   ]
  },
  {
   "cell_type": "code",
   "execution_count": 87,
   "id": "3147ef7e",
   "metadata": {},
   "outputs": [],
   "source": [
    "x_latlong = [latlongfeat(d) for d in test1]\n",
    "latlongpreds1 = mod3.predict(x_latlong)"
   ]
  },
  {
   "cell_type": "code",
   "execution_count": 88,
   "id": "091155b8",
   "metadata": {},
   "outputs": [
    {
     "name": "stdout",
     "output_type": "stream",
     "text": [
      "73.19197817450821% correct\n"
     ]
    },
    {
     "data": {
      "text/plain": [
       "defaultdict(int, {'bike': 19343, 'run': 22443})"
      ]
     },
     "execution_count": 88,
     "metadata": {},
     "output_type": "execute_result"
    }
   ],
   "source": [
    "print(BER(latlongpreds1, test1actual))\n",
    "predictionBreakdown(latlongpreds1)"
   ]
  },
  {
   "cell_type": "code",
   "execution_count": 89,
   "id": "db9b90df",
   "metadata": {},
   "outputs": [],
   "source": [
    "## accuracy improves to 73%, however the classifier is still only predicting\n",
    "## either run or bike, the two most common activities"
   ]
  },
  {
   "cell_type": "code",
   "execution_count": 24,
   "id": "4dfaf45d",
   "metadata": {},
   "outputs": [],
   "source": [
    "##alternate training/test split \n",
    "shuffleData2 = filterData"
   ]
  },
  {
   "cell_type": "code",
   "execution_count": 25,
   "id": "eb93768f",
   "metadata": {},
   "outputs": [],
   "source": [
    "random.seed(5)\n",
    "random.shuffle(shuffleData2)"
   ]
  },
  {
   "cell_type": "code",
   "execution_count": 26,
   "id": "a84f4c7f",
   "metadata": {
    "scrolled": true
   },
   "outputs": [
    {
     "data": {
      "text/plain": [
       "167141"
      ]
     },
     "execution_count": 26,
     "metadata": {},
     "output_type": "execute_result"
    }
   ],
   "source": [
    "l = len(shuffleData2)\n",
    "l"
   ]
  },
  {
   "cell_type": "code",
   "execution_count": 27,
   "id": "e0e35f27",
   "metadata": {},
   "outputs": [],
   "source": [
    "m = int(l *3/4)"
   ]
  },
  {
   "cell_type": "code",
   "execution_count": 28,
   "id": "c3b5668e",
   "metadata": {},
   "outputs": [],
   "source": [
    "train2 = shuffleData2[:l//2]\n",
    "test2 = shuffleData2[l//2:m]\n",
    "test3 = shuffleData2[m:]"
   ]
  },
  {
   "cell_type": "markdown",
   "id": "d00bda0f",
   "metadata": {},
   "source": [
    "### Similar model, but with different training/test splits and more iterations to ensure convergence"
   ]
  },
  {
   "cell_type": "code",
   "execution_count": 95,
   "id": "132c58ec",
   "metadata": {},
   "outputs": [],
   "source": [
    "x_train4 = [latlongfeat(d) for d in train2]\n",
    "y_train4 = [d['sport'] for d in train2]\n",
    "x_test4 = [latlongfeat(d) for d in test2]\n",
    "y_test4 = [d['sport'] for d in test2]"
   ]
  },
  {
   "cell_type": "code",
   "execution_count": 96,
   "id": "abdc58b1",
   "metadata": {},
   "outputs": [
    {
     "data": {
      "text/plain": [
       "LogisticRegression(max_iter=600, multi_class='multinomial')"
      ]
     },
     "execution_count": 96,
     "metadata": {},
     "output_type": "execute_result"
    }
   ],
   "source": [
    "mod4 = linear_model.LogisticRegression(multi_class='multinomial', max_iter=600)\n",
    "mod4.fit(x_train4,y_train4)"
   ]
  },
  {
   "cell_type": "code",
   "execution_count": 97,
   "id": "23e00e73",
   "metadata": {},
   "outputs": [],
   "source": [
    "preds4 = mod4.predict(x_test4)"
   ]
  },
  {
   "cell_type": "code",
   "execution_count": 98,
   "id": "b44982a0",
   "metadata": {},
   "outputs": [
    {
     "name": "stdout",
     "output_type": "stream",
     "text": [
      "72.76295321287543% correct\n"
     ]
    },
    {
     "data": {
      "text/plain": [
       "defaultdict(int, {'bike': 19368, 'run': 22417})"
      ]
     },
     "execution_count": 98,
     "metadata": {},
     "output_type": "execute_result"
    }
   ],
   "source": [
    "print(BER(preds4, y_test4))\n",
    "predictionBreakdown(preds4)"
   ]
  },
  {
   "cell_type": "code",
   "execution_count": 99,
   "id": "05e2e3b5",
   "metadata": {
    "scrolled": true
   },
   "outputs": [
    {
     "name": "stdout",
     "output_type": "stream",
     "text": [
      "73.17338757927486% correct\n"
     ]
    },
    {
     "data": {
      "text/plain": [
       "defaultdict(int, {'run': 44914, 'bike': 38656})"
      ]
     },
     "execution_count": 99,
     "metadata": {},
     "output_type": "execute_result"
    }
   ],
   "source": [
    "trainpred4 = mod4.predict(x_train4)\n",
    "print(BER(trainpred4, y_train4))\n",
    "predictionBreakdown(trainpred4)"
   ]
  },
  {
   "cell_type": "code",
   "execution_count": 100,
   "id": "d60ef1cc",
   "metadata": {},
   "outputs": [
    {
     "data": {
      "text/plain": [
       "defaultdict(int,\n",
       "            {'bike': 35903,\n",
       "             'run': 35347,\n",
       "             'orienteering': 464,\n",
       "             'mountain bike': 5379,\n",
       "             'bike (transport)': 3877,\n",
       "             'hiking': 117,\n",
       "             'indoor cycling': 826,\n",
       "             'walk': 655,\n",
       "             'cross-country skiing': 374,\n",
       "             'core stability training': 211,\n",
       "             'skate': 143,\n",
       "             'roller skiing': 128,\n",
       "             'fitness walking': 146})"
      ]
     },
     "execution_count": 100,
     "metadata": {},
     "output_type": "execute_result"
    }
   ],
   "source": [
    "predictionBreakdown(y_train4)"
   ]
  },
  {
   "cell_type": "code",
   "execution_count": 101,
   "id": "3f1625da",
   "metadata": {},
   "outputs": [],
   "source": [
    "x_test3 = [latlongfeat(d) for d in test3]\n",
    "y_test3 = [d['sport'] for d in test3]\n",
    "preds3 = mod4.predict(x_test3)"
   ]
  },
  {
   "cell_type": "code",
   "execution_count": 102,
   "id": "088cd757",
   "metadata": {},
   "outputs": [
    {
     "name": "stdout",
     "output_type": "stream",
     "text": [
      "73.44804479969368% correct\n"
     ]
    },
    {
     "data": {
      "text/plain": [
       "defaultdict(int, {'bike': 19363, 'run': 22423})"
      ]
     },
     "execution_count": 102,
     "metadata": {},
     "output_type": "execute_result"
    }
   ],
   "source": [
    "print(BER(preds3, y_test3))\n",
    "predictionBreakdown(preds3)"
   ]
  },
  {
   "cell_type": "markdown",
   "id": "32a968d3",
   "metadata": {},
   "source": [
    "## Latitude, Longitude and Heart Rate data, with scaling, fitted to a logistic regressor"
   ]
  },
  {
   "cell_type": "code",
   "execution_count": 105,
   "id": "25175dab",
   "metadata": {},
   "outputs": [],
   "source": [
    "def latlongHRfeat(data):\n",
    "    feat = [1]\n",
    "    feat.append(long_id[data['id']])\n",
    "    feat.append(lat_id[data['id']])\n",
    "    feat.append(idAvgHR[data['id']])\n",
    "    return feat"
   ]
  },
  {
   "cell_type": "code",
   "execution_count": 106,
   "id": "a4ffba2d",
   "metadata": {},
   "outputs": [],
   "source": [
    "x_train5 = [latlongHRfeat(d) for d in train2]\n",
    "y_train5 = [d['sport'] for d in train2]\n",
    "x_test5 = [latlongHRfeat(d) for d in test2]\n",
    "y_test5 = [d['sport'] for d in test2]"
   ]
  },
  {
   "cell_type": "code",
   "execution_count": 107,
   "id": "d6b2740f",
   "metadata": {},
   "outputs": [],
   "source": [
    "scaler = StandardScaler()\n",
    "x_train5 = scaler.fit_transform(x_train5)\n",
    "x_test5 = scaler.transform(x_test5)"
   ]
  },
  {
   "cell_type": "code",
   "execution_count": 108,
   "id": "065c78ac",
   "metadata": {},
   "outputs": [],
   "source": [
    "mod5 = linear_model.LogisticRegression(multi_class='multinomial', max_iter=600)\n",
    "mod5.fit(x_train5,y_train5)\n",
    "preds5_2 = mod5.predict(x_test5)"
   ]
  },
  {
   "cell_type": "code",
   "execution_count": 109,
   "id": "bc4ad463",
   "metadata": {},
   "outputs": [
    {
     "name": "stdout",
     "output_type": "stream",
     "text": [
      "74.23238004068445% correct\n"
     ]
    },
    {
     "data": {
      "text/plain": [
       "defaultdict(int,\n",
       "            {'run': 21453, 'bike': 20177, 'walk': 141, 'bike (transport)': 14})"
      ]
     },
     "execution_count": 109,
     "metadata": {},
     "output_type": "execute_result"
    }
   ],
   "source": [
    "print(BER(preds5_2, y_test5))\n",
    "predictionBreakdown(preds5_2)"
   ]
  },
  {
   "cell_type": "code",
   "execution_count": 110,
   "id": "42d90b83",
   "metadata": {
    "scrolled": true
   },
   "outputs": [
    {
     "data": {
      "text/plain": [
       "defaultdict(int,\n",
       "            {'bike': 17905,\n",
       "             'bike (transport)': 2005,\n",
       "             'run': 17635,\n",
       "             'mountain bike': 2722,\n",
       "             'indoor cycling': 454,\n",
       "             'skate': 71,\n",
       "             'core stability training': 99,\n",
       "             'cross-country skiing': 186,\n",
       "             'walk': 338,\n",
       "             'hiking': 61,\n",
       "             'fitness walking': 71,\n",
       "             'orienteering': 194,\n",
       "             'roller skiing': 44})"
      ]
     },
     "execution_count": 110,
     "metadata": {},
     "output_type": "execute_result"
    }
   ],
   "source": [
    "predictionBreakdown(y_test5)"
   ]
  },
  {
   "cell_type": "markdown",
   "id": "73ef553c",
   "metadata": {},
   "source": [
    "## Random Forest Classifier for Latitude, Longitude and HR data "
   ]
  },
  {
   "cell_type": "code",
   "execution_count": 111,
   "id": "72ea4f78",
   "metadata": {},
   "outputs": [
    {
     "data": {
      "text/plain": [
       "RandomForestClassifier(class_weight='balanced', criterion='entropy',\n",
       "                       n_estimators=10, random_state=42)"
      ]
     },
     "execution_count": 111,
     "metadata": {},
     "output_type": "execute_result"
    }
   ],
   "source": [
    "# Fitting Random Forest Classification to the Training set\n",
    "classifier = RandomForestClassifier(n_estimators = 10, criterion = 'entropy', random_state = 42, class_weight='balanced')\n",
    "classifier.fit(x_train5, y_train5)"
   ]
  },
  {
   "cell_type": "code",
   "execution_count": 112,
   "id": "fe81a9c2",
   "metadata": {},
   "outputs": [],
   "source": [
    "preds6 = classifier.predict(x_test5)"
   ]
  },
  {
   "cell_type": "code",
   "execution_count": 113,
   "id": "a6923953",
   "metadata": {
    "scrolled": false
   },
   "outputs": [
    {
     "name": "stdout",
     "output_type": "stream",
     "text": [
      "78.99485461289937% correct\n"
     ]
    },
    {
     "data": {
      "text/plain": [
       "defaultdict(int,\n",
       "            {'run': 18976,\n",
       "             'bike': 19702,\n",
       "             'bike (transport)': 1518,\n",
       "             'mountain bike': 875,\n",
       "             'indoor cycling': 337,\n",
       "             'core stability training': 48,\n",
       "             'walk': 245,\n",
       "             'cross-country skiing': 20,\n",
       "             'hiking': 12,\n",
       "             'fitness walking': 19,\n",
       "             'orienteering': 14,\n",
       "             'roller skiing': 4,\n",
       "             'skate': 15})"
      ]
     },
     "execution_count": 113,
     "metadata": {},
     "output_type": "execute_result"
    }
   ],
   "source": [
    "print(BER(preds6, y_test5))\n",
    "predictionBreakdown(preds6)"
   ]
  },
  {
   "cell_type": "markdown",
   "id": "5d476189",
   "metadata": {},
   "source": [
    "#### Random Forest Classifier both boosts classification accuracy and includes infrequent activities in prediction"
   ]
  },
  {
   "cell_type": "markdown",
   "id": "9c7f4df4",
   "metadata": {},
   "source": [
    "## Random Forest Classifier for Latitude, Longitude, Heart Rate, and Altitude data "
   ]
  },
  {
   "cell_type": "code",
   "execution_count": 114,
   "id": "ecaca6b6",
   "metadata": {},
   "outputs": [],
   "source": [
    "def latlongHRaltfeat(data):\n",
    "    feat = [1]\n",
    "    feat.append(long_id[data['id']])\n",
    "    feat.append(lat_id[data['id']])\n",
    "    feat.append(idAvgHR[data['id']])\n",
    "    feat.append(altUser[data['id']])\n",
    "    return feat"
   ]
  },
  {
   "cell_type": "code",
   "execution_count": 115,
   "id": "5e1ce53a",
   "metadata": {},
   "outputs": [],
   "source": [
    "x_train6 = [latlongHRaltfeat(d) for d in train2]\n",
    "y_train6 = [d['sport'] for d in train2]\n",
    "x_valid6 = [latlongHRaltfeat(d) for d in test2]\n",
    "y_valid6 = [d['sport'] for d in test2]\n",
    "x_test6 = [latlongHRaltfeat(d) for d in test3]\n",
    "y_test6 = [d['sport'] for d in test3]"
   ]
  },
  {
   "cell_type": "code",
   "execution_count": 116,
   "id": "5ca1241f",
   "metadata": {},
   "outputs": [],
   "source": [
    "scaler = StandardScaler()\n",
    "x_train6 = scaler.fit_transform(x_train6)\n",
    "x_valid6 = scaler.transform(x_valid6)\n",
    "x_test6 = scaler.transform(x_test6)"
   ]
  },
  {
   "cell_type": "code",
   "execution_count": 117,
   "id": "a4e325d8",
   "metadata": {},
   "outputs": [
    {
     "data": {
      "text/plain": [
       "RandomForestClassifier(class_weight='balanced', criterion='entropy',\n",
       "                       n_estimators=20, random_state=42)"
      ]
     },
     "execution_count": 117,
     "metadata": {},
     "output_type": "execute_result"
    }
   ],
   "source": [
    "clf2 = RandomForestClassifier(n_estimators = 20, criterion = 'entropy', random_state = 42, class_weight='balanced')\n",
    "clf2.fit(x_train6, y_train6)"
   ]
  },
  {
   "cell_type": "code",
   "execution_count": 118,
   "id": "6fcf31b1",
   "metadata": {
    "scrolled": true
   },
   "outputs": [
    {
     "name": "stdout",
     "output_type": "stream",
     "text": [
      "80.78975708986479% correct\n"
     ]
    },
    {
     "data": {
      "text/plain": [
       "defaultdict(int,\n",
       "            {'bike': 19467,\n",
       "             'bike (transport)': 1513,\n",
       "             'run': 19325,\n",
       "             'mountain bike': 805,\n",
       "             'indoor cycling': 357,\n",
       "             'core stability training': 25,\n",
       "             'hiking': 19,\n",
       "             'walk': 240,\n",
       "             'cross-country skiing': 10,\n",
       "             'skate': 8,\n",
       "             'orienteering': 4,\n",
       "             'fitness walking': 9,\n",
       "             'roller skiing': 3})"
      ]
     },
     "execution_count": 118,
     "metadata": {},
     "output_type": "execute_result"
    }
   ],
   "source": [
    "preds6 = clf2.predict(x_valid6)\n",
    "print(BER(preds6, y_valid6))\n",
    "predictionBreakdown(preds6) #predictions"
   ]
  },
  {
   "cell_type": "code",
   "execution_count": 119,
   "id": "fe4c6adc",
   "metadata": {
    "scrolled": true
   },
   "outputs": [
    {
     "data": {
      "text/plain": [
       "defaultdict(int,\n",
       "            {'bike': 17905,\n",
       "             'bike (transport)': 2005,\n",
       "             'run': 17635,\n",
       "             'mountain bike': 2722,\n",
       "             'indoor cycling': 454,\n",
       "             'skate': 71,\n",
       "             'core stability training': 99,\n",
       "             'cross-country skiing': 186,\n",
       "             'walk': 338,\n",
       "             'hiking': 61,\n",
       "             'fitness walking': 71,\n",
       "             'orienteering': 194,\n",
       "             'roller skiing': 44})"
      ]
     },
     "execution_count": 119,
     "metadata": {},
     "output_type": "execute_result"
    }
   ],
   "source": [
    "predictionBreakdown(y_valid6) #actual data"
   ]
  },
  {
   "cell_type": "code",
   "execution_count": 121,
   "id": "94d1ef3c",
   "metadata": {},
   "outputs": [
    {
     "name": "stdout",
     "output_type": "stream",
     "text": [
      "81.09414636481118% correct\n"
     ]
    },
    {
     "data": {
      "text/plain": [
       "defaultdict(int,\n",
       "            {'bike': 19568,\n",
       "             'run': 19243,\n",
       "             'indoor cycling': 350,\n",
       "             'mountain bike': 907,\n",
       "             'bike (transport)': 1390,\n",
       "             'walk': 242,\n",
       "             'cross-country skiing': 10,\n",
       "             'roller skiing': 11,\n",
       "             'skate': 9,\n",
       "             'core stability training': 26,\n",
       "             'hiking': 16,\n",
       "             'fitness walking': 14})"
      ]
     },
     "execution_count": 121,
     "metadata": {},
     "output_type": "execute_result"
    }
   ],
   "source": [
    "testpred6 = clf2.predict(x_test6)\n",
    "print(BER(testpred6, y_test6))\n",
    "predictionBreakdown(testpred6)"
   ]
  },
  {
   "cell_type": "markdown",
   "id": "f48ea3a2",
   "metadata": {},
   "source": [
    "## Extra Trees Classifier with Latitude, Longitude, Heart Rate, and Altitude features"
   ]
  },
  {
   "cell_type": "code",
   "execution_count": 122,
   "id": "59b3b210",
   "metadata": {
    "scrolled": true
   },
   "outputs": [
    {
     "name": "stdout",
     "output_type": "stream",
     "text": [
      "81.11523273902118% correct\n"
     ]
    },
    {
     "data": {
      "text/plain": [
       "defaultdict(int,\n",
       "            {'bike': 19454,\n",
       "             'bike (transport)': 1445,\n",
       "             'run': 19742,\n",
       "             'mountain bike': 535,\n",
       "             'indoor cycling': 334,\n",
       "             'core stability training': 15,\n",
       "             'walk': 221,\n",
       "             'skate': 11,\n",
       "             'fitness walking': 7,\n",
       "             'hiking': 15,\n",
       "             'roller skiing': 2,\n",
       "             'cross-country skiing': 4})"
      ]
     },
     "execution_count": 122,
     "metadata": {},
     "output_type": "execute_result"
    }
   ],
   "source": [
    "clf3 = ExtraTreesClassifier(criterion = 'entropy', random_state = 69, class_weight='balanced', oob_score=True, bootstrap=True)\n",
    "clf3.fit(x_train6, y_train6)\n",
    "preds7 = clf3.predict(x_valid6)\n",
    "print(BER(preds7, y_valid6))\n",
    "predictionBreakdown(preds7)"
   ]
  },
  {
   "cell_type": "code",
   "execution_count": 123,
   "id": "ef6a0c25",
   "metadata": {
    "scrolled": true
   },
   "outputs": [
    {
     "data": {
      "text/plain": [
       "0.8120138805791552"
      ]
     },
     "execution_count": 123,
     "metadata": {},
     "output_type": "execute_result"
    }
   ],
   "source": [
    "clf3.oob_score_"
   ]
  },
  {
   "cell_type": "code",
   "execution_count": 124,
   "id": "2754af38",
   "metadata": {
    "scrolled": true
   },
   "outputs": [
    {
     "name": "stdout",
     "output_type": "stream",
     "text": [
      "81.52969894222946% correct\n"
     ]
    },
    {
     "data": {
      "text/plain": [
       "defaultdict(int,\n",
       "            {'bike': 19656,\n",
       "             'run': 19647,\n",
       "             'indoor cycling': 334,\n",
       "             'mountain bike': 550,\n",
       "             'bike (transport)': 1319,\n",
       "             'walk': 235,\n",
       "             'roller skiing': 10,\n",
       "             'core stability training': 10,\n",
       "             'skate': 5,\n",
       "             'fitness walking': 11,\n",
       "             'hiking': 6,\n",
       "             'cross-country skiing': 3})"
      ]
     },
     "execution_count": 124,
     "metadata": {},
     "output_type": "execute_result"
    }
   ],
   "source": [
    "preds8 = clf3.predict(x_test6)\n",
    "print(BER(preds8, y_test6))\n",
    "predictionBreakdown(preds8)"
   ]
  },
  {
   "cell_type": "code",
   "execution_count": 125,
   "id": "c0ef552e",
   "metadata": {
    "scrolled": false
   },
   "outputs": [
    {
     "name": "stdout",
     "output_type": "stream",
     "text": [
      "81.09414636481118% correct\n"
     ]
    },
    {
     "data": {
      "text/plain": [
       "defaultdict(int,\n",
       "            {'bike': 19568,\n",
       "             'run': 19243,\n",
       "             'indoor cycling': 350,\n",
       "             'mountain bike': 907,\n",
       "             'bike (transport)': 1390,\n",
       "             'walk': 242,\n",
       "             'cross-country skiing': 10,\n",
       "             'roller skiing': 11,\n",
       "             'skate': 9,\n",
       "             'core stability training': 26,\n",
       "             'hiking': 16,\n",
       "             'fitness walking': 14})"
      ]
     },
     "execution_count": 125,
     "metadata": {},
     "output_type": "execute_result"
    }
   ],
   "source": [
    "testpred8 = clf2.predict(x_test6)\n",
    "print(BER(testpred8, y_test6))\n",
    "predictionBreakdown(testpred8)"
   ]
  },
  {
   "cell_type": "code",
   "execution_count": 126,
   "id": "4d34ccbe",
   "metadata": {
    "scrolled": true
   },
   "outputs": [
    {
     "data": {
      "text/plain": [
       "defaultdict(int,\n",
       "            {'bike': 18107,\n",
       "             'run': 17609,\n",
       "             'mountain bike': 2621,\n",
       "             'bike (transport)': 1875,\n",
       "             'fitness walking': 75,\n",
       "             'walk': 296,\n",
       "             'indoor cycling': 445,\n",
       "             'core stability training': 138,\n",
       "             'cross-country skiing': 229,\n",
       "             'orienteering': 209,\n",
       "             'roller skiing': 66,\n",
       "             'hiking': 59,\n",
       "             'skate': 57})"
      ]
     },
     "execution_count": 126,
     "metadata": {},
     "output_type": "execute_result"
    }
   ],
   "source": [
    "predictionBreakdown(y_test6)"
   ]
  },
  {
   "cell_type": "markdown",
   "id": "8273a407",
   "metadata": {},
   "source": [
    "## Support Vector Machines Classifier with Latitude, Longitude, Heart Rate, and Altitude features"
   ]
  },
  {
   "cell_type": "code",
   "execution_count": 127,
   "id": "6a6407ac",
   "metadata": {},
   "outputs": [],
   "source": [
    "rbf = svm.SVC(kernel='rbf', gamma=0.5, C=0.1).fit(x_train6, y_train6)"
   ]
  },
  {
   "cell_type": "code",
   "execution_count": 128,
   "id": "c3f7d29e",
   "metadata": {},
   "outputs": [],
   "source": [
    "rbf_pred = rbf.predict(x_test6)"
   ]
  },
  {
   "cell_type": "code",
   "execution_count": 129,
   "id": "30caaa6e",
   "metadata": {},
   "outputs": [
    {
     "name": "stdout",
     "output_type": "stream",
     "text": [
      "Accuracy (RBF Kernel):  75.80\n",
      "F1 (RBF Kernel):  70.71\n"
     ]
    }
   ],
   "source": [
    "rbf_accuracy = accuracy_score(y_test6, rbf_pred)\n",
    "rbf_f1 = f1_score(y_test6, rbf_pred, average='weighted')\n",
    "print('Accuracy (RBF Kernel): ', \"%.2f\" % (rbf_accuracy*100))\n",
    "print('F1 (RBF Kernel): ', \"%.2f\" % (rbf_f1*100))"
   ]
  },
  {
   "cell_type": "markdown",
   "id": "f27a00b0",
   "metadata": {},
   "source": [
    "## Extra Trees Classifier with Latitude, Longitude, Heart Rate, Altitude and Gender features  "
   ]
  },
  {
   "cell_type": "code",
   "execution_count": 30,
   "id": "74b5994e",
   "metadata": {},
   "outputs": [],
   "source": [
    "#generating feature vectors with latitude, longitude, heart rate, altitude, and gender data\n",
    "def latlongHRaltgenderfeat(data):\n",
    "    feat = [1]\n",
    "    feat.append(long_id[data['id']])\n",
    "    feat.append(lat_id[data['id']])\n",
    "    feat.append(idAvgHR[data['id']])\n",
    "    feat.append(altUser[data['id']])\n",
    "    if data['gender'] == 'male':\n",
    "        feat.append(0)\n",
    "    elif data['gender'] == 'female':\n",
    "        feat.append(1)\n",
    "    else:\n",
    "        feat.append(2)\n",
    "    return feat"
   ]
  },
  {
   "cell_type": "code",
   "execution_count": 31,
   "id": "70c9a3d3",
   "metadata": {},
   "outputs": [],
   "source": [
    "x_train7 = [latlongHRaltgenderfeat(d) for d in train2]\n",
    "y_train7 = [d['sport'] for d in train2]\n",
    "x_valid7 = [latlongHRaltgenderfeat(d) for d in test2]\n",
    "y_valid7 = [d['sport'] for d in test2]\n",
    "x_test7 = [latlongHRaltgenderfeat(d) for d in test3]\n",
    "y_test7 = [d['sport'] for d in test3]"
   ]
  },
  {
   "cell_type": "code",
   "execution_count": 68,
   "id": "1274be2c",
   "metadata": {},
   "outputs": [],
   "source": [
    "scaler = StandardScaler()\n",
    "x_train7 = scaler.fit_transform(x_train7)\n",
    "x_valid7 = scaler.transform(x_valid7)\n",
    "x_test7= scaler.transform(x_test7)"
   ]
  },
  {
   "cell_type": "code",
   "execution_count": 134,
   "id": "4d33d8d9",
   "metadata": {
    "scrolled": true
   },
   "outputs": [
    {
     "name": "stdout",
     "output_type": "stream",
     "text": [
      "81.46942682780902% correct\n"
     ]
    },
    {
     "data": {
      "text/plain": [
       "defaultdict(int,\n",
       "            {'bike': 19351,\n",
       "             'bike (transport)': 1452,\n",
       "             'run': 19759,\n",
       "             'mountain bike': 564,\n",
       "             'indoor cycling': 315,\n",
       "             'core stability training': 21,\n",
       "             'walk': 265,\n",
       "             'cross-country skiing': 13,\n",
       "             'skate': 10,\n",
       "             'fitness walking': 20,\n",
       "             'hiking': 13,\n",
       "             'roller skiing': 2})"
      ]
     },
     "execution_count": 134,
     "metadata": {},
     "output_type": "execute_result"
    }
   ],
   "source": [
    "clf4 = ExtraTreesClassifier(criterion = 'entropy', random_state = 69, class_weight='balanced', oob_score=True, bootstrap=True)\n",
    "clf4.fit(x_train7, y_train7)\n",
    "preds8 = clf4.predict(x_valid7)\n",
    "print(BER(preds8, y_valid7))\n",
    "predictionBreakdown(preds8)"
   ]
  },
  {
   "cell_type": "code",
   "execution_count": 136,
   "id": "2c56f313",
   "metadata": {},
   "outputs": [
    {
     "data": {
      "text/plain": [
       "defaultdict(int,\n",
       "            {'bike': 17905,\n",
       "             'bike (transport)': 2005,\n",
       "             'run': 17635,\n",
       "             'mountain bike': 2722,\n",
       "             'indoor cycling': 454,\n",
       "             'skate': 71,\n",
       "             'core stability training': 99,\n",
       "             'cross-country skiing': 186,\n",
       "             'walk': 338,\n",
       "             'hiking': 61,\n",
       "             'fitness walking': 71,\n",
       "             'orienteering': 194,\n",
       "             'roller skiing': 44})"
      ]
     },
     "execution_count": 136,
     "metadata": {},
     "output_type": "execute_result"
    }
   ],
   "source": [
    "predictionBreakdown(y_valid7)"
   ]
  },
  {
   "cell_type": "code",
   "execution_count": 135,
   "id": "e9b6b45b",
   "metadata": {},
   "outputs": [
    {
     "name": "stdout",
     "output_type": "stream",
     "text": [
      "81.87431197051644% correct\n"
     ]
    },
    {
     "data": {
      "text/plain": [
       "defaultdict(int,\n",
       "            {'bike': 19568,\n",
       "             'run': 19611,\n",
       "             'indoor cycling': 322,\n",
       "             'mountain bike': 592,\n",
       "             'bike (transport)': 1350,\n",
       "             'walk': 262,\n",
       "             'cross-country skiing': 16,\n",
       "             'roller skiing': 13,\n",
       "             'core stability training': 16,\n",
       "             'skate': 4,\n",
       "             'hiking': 11,\n",
       "             'fitness walking': 21})"
      ]
     },
     "execution_count": 135,
     "metadata": {},
     "output_type": "execute_result"
    }
   ],
   "source": [
    "preds9 = clf4.predict(x_test7)\n",
    "print(BER(preds9, y_test7))\n",
    "predictionBreakdown(preds9)"
   ]
  },
  {
   "cell_type": "markdown",
   "id": "67978605",
   "metadata": {},
   "source": [
    "## AdaBoost Classifiers with Latitude, Longitude, Heart Rate, Altitude and Gender features  "
   ]
  },
  {
   "cell_type": "code",
   "execution_count": 158,
   "id": "4839b5b5",
   "metadata": {},
   "outputs": [
    {
     "name": "stdout",
     "output_type": "stream",
     "text": [
      "67.96936699772645% correct\n"
     ]
    },
    {
     "data": {
      "text/plain": [
       "defaultdict(int,\n",
       "            {'run': 18628,\n",
       "             'bike': 18300,\n",
       "             'skate': 927,\n",
       "             'bike (transport)': 856,\n",
       "             'core stability training': 435,\n",
       "             'fitness walking': 334,\n",
       "             'walk': 238,\n",
       "             'indoor cycling': 951,\n",
       "             'hiking': 991,\n",
       "             'mountain bike': 108,\n",
       "             'orienteering': 8,\n",
       "             'cross-country skiing': 9})"
      ]
     },
     "execution_count": 158,
     "metadata": {},
     "output_type": "execute_result"
    }
   ],
   "source": [
    "ada1 = AdaBoostClassifier(n_estimators=100).fit(x_train7, y_train7)\n",
    "adapreds1 = ada1.predict(x_valid7)\n",
    "print(BER(adapreds1, y_valid7))\n",
    "predictionBreakdown(adapreds1)"
   ]
  },
  {
   "cell_type": "code",
   "execution_count": 163,
   "id": "5be58c2c",
   "metadata": {},
   "outputs": [
    {
     "name": "stdout",
     "output_type": "stream",
     "text": [
      "72.6911571137968% correct\n"
     ]
    },
    {
     "data": {
      "text/plain": [
       "defaultdict(int,\n",
       "            {'run': 20019,\n",
       "             'bike': 19919,\n",
       "             'skate': 608,\n",
       "             'walk': 445,\n",
       "             'indoor cycling': 555,\n",
       "             'fitness walking': 99,\n",
       "             'hiking': 31,\n",
       "             'mountain bike': 86,\n",
       "             'bike (transport)': 16,\n",
       "             'cross-country skiing': 7})"
      ]
     },
     "execution_count": 163,
     "metadata": {},
     "output_type": "execute_result"
    }
   ],
   "source": [
    "ada1 = AdaBoostClassifier(n_estimators=40).fit(x_train7, y_train7)\n",
    "adapreds1 = ada1.predict(x_valid7)\n",
    "print(BER(adapreds1, y_valid7))\n",
    "predictionBreakdown(adapreds1)"
   ]
  },
  {
   "cell_type": "code",
   "execution_count": 164,
   "id": "427b1cb1",
   "metadata": {},
   "outputs": [
    {
     "name": "stdout",
     "output_type": "stream",
     "text": [
      "73.19437132053798% correct\n"
     ]
    },
    {
     "data": {
      "text/plain": [
       "defaultdict(int,\n",
       "            {'bike': 20025,\n",
       "             'run': 19907,\n",
       "             'indoor cycling': 573,\n",
       "             'skate': 567,\n",
       "             'walk': 482,\n",
       "             'fitness walking': 92,\n",
       "             'mountain bike': 95,\n",
       "             'hiking': 24,\n",
       "             'bike (transport)': 10,\n",
       "             'cross-country skiing': 11})"
      ]
     },
     "execution_count": 164,
     "metadata": {},
     "output_type": "execute_result"
    }
   ],
   "source": [
    "adapreds2 = ada1.predict(x_test7)\n",
    "print(BER(adapreds2, y_test7))\n",
    "predictionBreakdown(adapreds2)"
   ]
  },
  {
   "cell_type": "code",
   "execution_count": 166,
   "id": "3dac6a53",
   "metadata": {},
   "outputs": [
    {
     "name": "stdout",
     "output_type": "stream",
     "text": [
      "72.55713772885007% correct\n"
     ]
    },
    {
     "data": {
      "text/plain": [
       "defaultdict(int, {'bike': 20378, 'run': 21296, 'mountain bike': 111})"
      ]
     },
     "execution_count": 166,
     "metadata": {},
     "output_type": "execute_result"
    }
   ],
   "source": [
    "ada2 = AdaBoostClassifier(algorithm='SAMME').fit(x_train7, y_train7)\n",
    "ada2preds = ada2.predict(x_valid7)\n",
    "print(BER(ada2preds, y_valid7))\n",
    "predictionBreakdown(ada2preds)"
   ]
  },
  {
   "cell_type": "markdown",
   "id": "3b9d88d2",
   "metadata": {},
   "source": [
    "# Part 3: Optimizing Chosen Model"
   ]
  },
  {
   "cell_type": "markdown",
   "id": "22bc34ea",
   "metadata": {},
   "source": [
    "### The Extra Trees Classifier with Latitude, Longitude, Heart Rate, Altitude and Gender features was generally the most accurate, so now we will tweak hyperparameters to optimize accuracy  "
   ]
  },
  {
   "cell_type": "code",
   "execution_count": 35,
   "id": "a1f17f62",
   "metadata": {},
   "outputs": [],
   "source": [
    "def evaluate_model(X, y, model): # perform 5-fold validation of the data\n",
    "    cv = RepeatedStratifiedKFold(n_splits=5, n_repeats=3, random_state=1) \n",
    "    scores = cross_val_score(model, X, y, scoring='accuracy', cv=cv, n_jobs=-1)\n",
    "    return scores"
   ]
  },
  {
   "cell_type": "code",
   "execution_count": 169,
   "id": "59afdf8a",
   "metadata": {},
   "outputs": [],
   "source": [
    "clf5 = ExtraTreesClassifier(criterion = 'entropy', class_weight='balanced')\n",
    "scores = evaluate_model(x_train7, y_train7, clf5)"
   ]
  },
  {
   "cell_type": "code",
   "execution_count": 170,
   "id": "429c61a2",
   "metadata": {},
   "outputs": [
    {
     "data": {
      "text/plain": [
       "array([0.81608233, 0.81584301, 0.81596267, 0.81733876, 0.81488572,\n",
       "       0.81895417, 0.81506521, 0.81811655, 0.8166208 , 0.8166208 ,\n",
       "       0.81680029, 0.81237286, 0.81871485, 0.82033026, 0.81626182])"
      ]
     },
     "execution_count": 170,
     "metadata": {},
     "output_type": "execute_result"
    }
   ],
   "source": [
    "scores # accuracy scores (out of 1) for various splits of the dataset"
   ]
  },
  {
   "cell_type": "code",
   "execution_count": 171,
   "id": "8bde12d1",
   "metadata": {
    "scrolled": true
   },
   "outputs": [
    {
     "data": {
      "text/plain": [
       "array([0.81656097, 0.81769774, 0.81769774, 0.81703961, 0.8172191 ,\n",
       "       0.81668063, 0.81614216, 0.82033026, 0.81727893, 0.81715927,\n",
       "       0.81703961, 0.81446691, 0.82074907, 0.82027043, 0.81925332])"
      ]
     },
     "execution_count": 171,
     "metadata": {},
     "output_type": "execute_result"
    }
   ],
   "source": [
    "clf6 = ExtraTreesClassifier(criterion = 'entropy', class_weight='balanced', n_estimators=500)\n",
    "scores2 = evaluate_model(x_train7, y_train7, clf6)\n",
    "scores2"
   ]
  },
  {
   "cell_type": "code",
   "execution_count": 172,
   "id": "ed965091",
   "metadata": {},
   "outputs": [
    {
     "data": {
      "text/plain": [
       "array([0.81494555, 0.81787723, 0.81829604, 0.81733876, 0.81817638,\n",
       "       0.81530454, 0.81590284, 0.81739859, 0.819014  , 0.81530454,\n",
       "       0.81703961, 0.81536437, 0.8178174 , 0.81823621, 0.81793706])"
      ]
     },
     "execution_count": 172,
     "metadata": {},
     "output_type": "execute_result"
    }
   ],
   "source": [
    "clf7 = ExtraTreesClassifier(criterion = 'gini', class_weight='balanced')\n",
    "scores3 = evaluate_model(x_train7, y_train7, clf7)\n",
    "scores3"
   ]
  },
  {
   "cell_type": "code",
   "execution_count": 173,
   "id": "5c09e72b",
   "metadata": {},
   "outputs": [
    {
     "data": {
      "text/plain": [
       "array([0.81338997, 0.81656097, 0.81560369, 0.81608233, 0.81691995,\n",
       "       0.81410793, 0.8128515 , 0.81895417, 0.81703961, 0.81548403,\n",
       "       0.81338997, 0.81440708, 0.81691995, 0.82068924, 0.81638148])"
      ]
     },
     "execution_count": 173,
     "metadata": {},
     "output_type": "execute_result"
    }
   ],
   "source": [
    "clf8 =  RandomForestClassifier( criterion = 'entropy', random_state = 42, class_weight='balanced')\n",
    "scores4 = evaluate_model(x_train7, y_train7, clf8)\n",
    "scores4"
   ]
  },
  {
   "cell_type": "code",
   "execution_count": 32,
   "id": "6056f97d",
   "metadata": {},
   "outputs": [],
   "source": [
    "def get_models(): # test models with various numbers of trees for maximum accuracy\n",
    "    models = dict()\n",
    "    n_trees = [10, 50, 100, 250]\n",
    "    for n in n_trees:\n",
    "        models[str(n)] = ExtraTreesClassifier(n_estimators=n, criterion='entropy', class_weight='balanced')\n",
    "    return models"
   ]
  },
  {
   "cell_type": "code",
   "execution_count": 33,
   "id": "71c3962e",
   "metadata": {},
   "outputs": [],
   "source": [
    "models = get_models()"
   ]
  },
  {
   "cell_type": "code",
   "execution_count": 36,
   "id": "6dfe73f2",
   "metadata": {
    "scrolled": true
   },
   "outputs": [
    {
     "name": "stdout",
     "output_type": "stream",
     "text": [
      ">10 0.803 (0.003)\n",
      ">50 0.815 (0.002)\n",
      ">100 0.817 (0.002)\n",
      ">250 0.818 (0.002)\n"
     ]
    }
   ],
   "source": [
    "results, names = list(), list() \n",
    "for name, model in models.items():\n",
    "    scores = evaluate_model(x_train7, y_train7, model) \n",
    "    results.append(scores)\n",
    "    names.append(name)\n",
    "\n",
    "    print('>%s %.3f (%.3f)' % (name, statistics.mean(scores), np.std(scores)))"
   ]
  },
  {
   "cell_type": "code",
   "execution_count": 37,
   "id": "3f22caee",
   "metadata": {
    "scrolled": true
   },
   "outputs": [
    {
     "data": {
      "text/plain": [
       "Text(0.5, 1.0, 'Extra Trees Classifier Accuracy')"
      ]
     },
     "execution_count": 37,
     "metadata": {},
     "output_type": "execute_result"
    },
    {
     "data": {
      "image/png": "[encoded data removed]",
      "text/plain": [
       "<Figure size 432x288 with 1 Axes>"
      ]
     },
     "metadata": {
      "needs_background": "light"
     },
     "output_type": "display_data"
    }
   ],
   "source": [
    "plt.boxplot(results, labels=names, showmeans=True)\n",
    "plt.xlabel(\"Number of Decision Trees\")\n",
    "plt.ylabel(\"Accuracy Score (Out of 1)\")\n",
    "plt.title(\"Extra Trees Classifier Accuracy\")"
   ]
  },
  {
   "cell_type": "code",
   "execution_count": 91,
   "id": "cd13523f",
   "metadata": {},
   "outputs": [],
   "source": [
    "def features_model(): #test number of features per split point in decision tree\n",
    "    models = dict()\n",
    "    for i in range(1, 7):\n",
    "        models[str(i)] = ExtraTreesClassifier(max_features=i,criterion='entropy', class_weight='balanced')\n",
    "    return models"
   ]
  },
  {
   "cell_type": "code",
   "execution_count": 92,
   "id": "0d0a9182",
   "metadata": {},
   "outputs": [],
   "source": [
    "feature_models = features_model()"
   ]
  },
  {
   "cell_type": "code",
   "execution_count": 93,
   "id": "ac975377",
   "metadata": {},
   "outputs": [
    {
     "name": "stdout",
     "output_type": "stream",
     "text": [
      ">1 0.815 (0.002)\n",
      ">2 0.816 (0.002)\n",
      ">3 0.818 (0.002)\n",
      ">4 0.818 (0.002)\n",
      ">5 0.818 (0.001)\n",
      ">6 0.818 (0.001)\n"
     ]
    }
   ],
   "source": [
    "results, names = list(), list()\n",
    "for name, model in feature_models.items():\n",
    "    scores = evaluate_model(x_train7, y_train7, model)\n",
    "    results.append(scores)\n",
    "    names.append(name)\n",
    "    print('>%s %.3f (%.3f)' % (name, statistics.mean(scores), np.std(scores)))"
   ]
  },
  {
   "cell_type": "code",
   "execution_count": 95,
   "id": "37e51629",
   "metadata": {
    "scrolled": true
   },
   "outputs": [
    {
     "data": {
      "text/plain": [
       "Text(0.5, 1.0, 'Extra Trees Classifier Accuracy')"
      ]
     },
     "execution_count": 95,
     "metadata": {},
     "output_type": "execute_result"
    },
    {
     "data": {
      "image/png": "[encoded data removed]",
      "text/plain": [
       "<Figure size 432x288 with 1 Axes>"
      ]
     },
     "metadata": {
      "needs_background": "light"
     },
     "output_type": "display_data"
    }
   ],
   "source": [
    "plt.boxplot(results, labels=names, showmeans=True)\n",
    "plt.xlabel(\"Maximum Features per Split Point\")\n",
    "plt.ylabel(\"Accuracy Score (Out of 1)\")\n",
    "plt.title(\"Extra Trees Classifier Accuracy\")"
   ]
  },
  {
   "cell_type": "code",
   "execution_count": 118,
   "id": "eb6b719b",
   "metadata": {},
   "outputs": [],
   "source": [
    "def get_modelsSplit(): #test the number of samples per split from 2 to 25\n",
    "    models = dict()\n",
    "    for i in range(2, 25):\n",
    "        models[str(i)] = ExtraTreesClassifier(min_samples_split=i)\n",
    "    return models"
   ]
  },
  {
   "cell_type": "code",
   "execution_count": 119,
   "id": "462ee8d9",
   "metadata": {},
   "outputs": [],
   "source": [
    "models2 = get_modelsSplit()"
   ]
  },
  {
   "cell_type": "code",
   "execution_count": 120,
   "id": "0dea5544",
   "metadata": {},
   "outputs": [],
   "source": [
    "def evaluate_modelSplit(model, X, y):\n",
    "    cv = RepeatedStratifiedKFold(n_splits=10, n_repeats=3, random_state=1)\n",
    "    scores = cross_val_score(model, X, y, scoring='accuracy', cv=cv, n_jobs=-1)\n",
    "    return scores"
   ]
  },
  {
   "cell_type": "code",
   "execution_count": 122,
   "id": "c3c08139",
   "metadata": {},
   "outputs": [
    {
     "name": "stdout",
     "output_type": "stream",
     "text": [
      ">2 0.819 (0.003)\n",
      ">3 0.819 (0.003)\n",
      ">4 0.818 (0.004)\n",
      ">5 0.816 (0.004)\n",
      ">6 0.815 (0.003)\n",
      ">7 0.815 (0.004)\n",
      ">8 0.813 (0.004)\n",
      ">9 0.812 (0.003)\n",
      ">10 0.812 (0.004)\n",
      ">11 0.810 (0.004)\n",
      ">12 0.810 (0.004)\n",
      ">13 0.809 (0.004)\n",
      ">14 0.808 (0.003)\n",
      ">15 0.807 (0.003)\n",
      ">16 0.806 (0.004)\n",
      ">17 0.806 (0.004)\n",
      ">18 0.805 (0.004)\n",
      ">19 0.805 (0.004)\n",
      ">20 0.805 (0.003)\n",
      ">21 0.804 (0.004)\n",
      ">22 0.803 (0.004)\n",
      ">23 0.803 (0.004)\n",
      ">24 0.803 (0.004)\n"
     ]
    }
   ],
   "source": [
    "results, names = list(), list()\n",
    "for name, model in models2.items():\n",
    "    scores = evaluate_modelSplit(model, x_train7, y_train7)\n",
    "    results.append(scores)\n",
    "    names.append(name)\n",
    "    print('>%s %.3f (%.3f)' % (name, statistics.mean(scores), np.std(scores)))"
   ]
  },
  {
   "cell_type": "code",
   "execution_count": 125,
   "id": "1e9d246c",
   "metadata": {},
   "outputs": [
    {
     "data": {
      "text/plain": [
       "Text(0.5, 1.0, 'Extra Trees Classifier Accuracy')"
      ]
     },
     "execution_count": 125,
     "metadata": {},
     "output_type": "execute_result"
    },
    {
     "data": {
      "image/png": "[encoded data removed]",
      "text/plain": [
       "<Figure size 432x288 with 1 Axes>"
      ]
     },
     "metadata": {
      "needs_background": "light"
     },
     "output_type": "display_data"
    }
   ],
   "source": [
    "plt.boxplot(results, labels=names, showmeans=True)\n",
    "plt.xlabel(\"Minimum Number of Samples per Split Point\")\n",
    "plt.ylabel(\"Accuracy Score (Out of 1)\")\n",
    "plt.title(\"Extra Trees Classifier Accuracy\")"
   ]
  },
  {
   "cell_type": "code",
   "execution_count": 130,
   "id": "3ab94a9c",
   "metadata": {
    "scrolled": true
   },
   "outputs": [
    {
     "data": {
      "text/plain": [
       "array([0.81506521, 0.81955247, 0.81949264, 0.81829604, 0.81955247,\n",
       "       0.82027043, 0.81787723, 0.81991145, 0.81817638, 0.81739859,\n",
       "       0.81757808, 0.81584301, 0.81913366, 0.82260381, 0.81925332])"
      ]
     },
     "execution_count": 130,
     "metadata": {},
     "output_type": "execute_result"
    }
   ],
   "source": [
    "clf9 = ExtraTreesClassifier(criterion = 'entropy', random_state = 42, class_weight='balanced',min_samples_split=2, max_features=6, n_estimators=200 )\n",
    "scores5 = evaluate_model(x_train7, y_train7, clf9)\n",
    "scores5"
   ]
  },
  {
   "cell_type": "code",
   "execution_count": 132,
   "id": "8e6b725b",
   "metadata": {},
   "outputs": [
    {
     "data": {
      "text/plain": [
       "0.8186669857604404"
      ]
     },
     "execution_count": 132,
     "metadata": {},
     "output_type": "execute_result"
    }
   ],
   "source": [
    "statistics.mean(scores5) #mean accuracy of all folds"
   ]
  },
  {
   "cell_type": "code",
   "execution_count": 137,
   "id": "1944831d",
   "metadata": {},
   "outputs": [
    {
     "data": {
      "text/plain": [
       "<bound method DataFrame.pivot of     Accuracy Scores\n",
       "0          0.815065\n",
       "1          0.819552\n",
       "2          0.819493\n",
       "3          0.818296\n",
       "4          0.819552\n",
       "5          0.820270\n",
       "6          0.817877\n",
       "7          0.819911\n",
       "8          0.818176\n",
       "9          0.817399\n",
       "10         0.817578\n",
       "11         0.815843\n",
       "12         0.819134\n",
       "13         0.822604\n",
       "14         0.819253>"
      ]
     },
     "execution_count": 137,
     "metadata": {},
     "output_type": "execute_result"
    }
   ],
   "source": [
    "df = pd.DataFrame(scores5, columns=['Accuracy Scores'])\n",
    "df.pivot #Accuracy Scores"
   ]
  },
  {
   "cell_type": "code",
   "execution_count": 149,
   "id": "dc9971dd",
   "metadata": {},
   "outputs": [
    {
     "data": {
      "text/plain": [
       "array([[0.81506521, 0.81955247, 0.81949264, 0.81829604, 0.81955247],\n",
       "       [0.82027043, 0.81787723, 0.81991145, 0.81817638, 0.81739859],\n",
       "       [0.81757808, 0.81584301, 0.81913366, 0.82260381, 0.81925332]])"
      ]
     },
     "execution_count": 149,
     "metadata": {},
     "output_type": "execute_result"
    }
   ],
   "source": [
    "scores5 = scores5.reshape(3,5)\n",
    "scores5"
   ]
  },
  {
   "cell_type": "code",
   "execution_count": 154,
   "id": "b2ae54c6",
   "metadata": {
    "scrolled": false
   },
   "outputs": [
    {
     "data": {
      "text/html": [
       "<div>\n",
       "<style scoped>\n",
       "    .dataframe tbody tr th:only-of-type {\n",
       "        vertical-align: middle;\n",
       "    }\n",
       "\n",
       "    .dataframe tbody tr th {\n",
       "        vertical-align: top;\n",
       "    }\n",
       "\n",
       "    .dataframe thead th {\n",
       "        text-align: right;\n",
       "    }\n",
       "</style>\n",
       "<table border=\"1\" class=\"dataframe\">\n",
       "  <thead>\n",
       "    <tr style=\"text-align: right;\">\n",
       "      <th></th>\n",
       "      <th>Fold 1</th>\n",
       "      <th>Fold 2</th>\n",
       "      <th>Fold 3</th>\n",
       "      <th>Fold 4</th>\n",
       "      <th>Fold 5</th>\n",
       "    </tr>\n",
       "  </thead>\n",
       "  <tbody>\n",
       "    <tr>\n",
       "      <th>0</th>\n",
       "      <td>0.815065</td>\n",
       "      <td>0.819552</td>\n",
       "      <td>0.819493</td>\n",
       "      <td>0.818296</td>\n",
       "      <td>0.819552</td>\n",
       "    </tr>\n",
       "    <tr>\n",
       "      <th>1</th>\n",
       "      <td>0.820270</td>\n",
       "      <td>0.817877</td>\n",
       "      <td>0.819911</td>\n",
       "      <td>0.818176</td>\n",
       "      <td>0.817399</td>\n",
       "    </tr>\n",
       "    <tr>\n",
       "      <th>2</th>\n",
       "      <td>0.817578</td>\n",
       "      <td>0.815843</td>\n",
       "      <td>0.819134</td>\n",
       "      <td>0.822604</td>\n",
       "      <td>0.819253</td>\n",
       "    </tr>\n",
       "  </tbody>\n",
       "</table>\n",
       "</div>"
      ],
      "text/plain": [
       "     Fold 1    Fold 2    Fold 3    Fold 4    Fold 5\n",
       "0  0.815065  0.819552  0.819493  0.818296  0.819552\n",
       "1  0.820270  0.817877  0.819911  0.818176  0.817399\n",
       "2  0.817578  0.815843  0.819134  0.822604  0.819253"
      ]
     },
     "execution_count": 154,
     "metadata": {},
     "output_type": "execute_result"
    }
   ],
   "source": [
    "df = pd.DataFrame(scores5, columns = ['Fold 1','Fold 2','Fold 3','Fold 4','Fold 5'])\n",
    "df"
   ]
  },
  {
   "cell_type": "code",
   "execution_count": 146,
   "id": "8d0fde79",
   "metadata": {},
   "outputs": [
    {
     "data": {
      "text/plain": [
       "<bound method DataFrame.pivot_table of     Accuracy Scores\n",
       "0          0.815065\n",
       "1          0.819552\n",
       "2          0.819493\n",
       "3          0.818296\n",
       "4          0.819552\n",
       "5          0.820270\n",
       "6          0.817877\n",
       "7          0.819911\n",
       "8          0.818176\n",
       "9          0.817399\n",
       "10         0.817578\n",
       "11         0.815843\n",
       "12         0.819134\n",
       "13         0.822604\n",
       "14         0.819253>"
      ]
     },
     "execution_count": 146,
     "metadata": {},
     "output_type": "execute_result"
    }
   ],
   "source": [
    "df.pivot_table"
   ]
  }
 ],
 "metadata": {
  "kernelspec": {
   "display_name": "Python 3",
   "language": "python",
   "name": "python3"
  },
  "language_info": {
   "codemirror_mode": {
    "name": "ipython",
    "version": 3
   },
   "file_extension": ".py",
   "mimetype": "text/x-python",
   "name": "python",
   "nbconvert_exporter": "python",
   "pygments_lexer": "ipython3",
   "version": "3.9.4"
  }
 },
 "nbformat": 4,
 "nbformat_minor": 5
}
